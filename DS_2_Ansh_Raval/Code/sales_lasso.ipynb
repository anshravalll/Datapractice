{
 "cells": [
  {
   "cell_type": "code",
   "execution_count": 136,
   "id": "a24a451e-5417-4717-be84-acb72ebc7a4e",
   "metadata": {},
   "outputs": [],
   "source": [
    "import pandas as pd\n",
    "import numpy as np\n",
    "from sklearn.model_selection import train_test_split\n",
    "from sklearn.preprocessing import StandardScaler, minmax_scale, robust_scale\n",
    "from sklearn.linear_model import LassoCV, Lasso\n",
    "from sklearn.metrics import mean_absolute_error, mean_squared_error\n",
    "import seaborn as sns\n",
    "import matplotlib.pyplot as plt\n",
    "\n",
    "# Read the data into a DataFrame\n",
    "df = pd.read_csv('100_Sales.csv')"
   ]
  },
  {
   "cell_type": "code",
   "execution_count": 137,
   "id": "c9f5c103-0484-4546-900c-db3588fcaff1",
   "metadata": {},
   "outputs": [
    {
     "name": "stdout",
     "output_type": "stream",
     "text": [
      "<class 'pandas.core.frame.DataFrame'>\n",
      "RangeIndex: 100 entries, 0 to 99\n",
      "Data columns (total 11 columns):\n",
      " #   Column          Non-Null Count  Dtype  \n",
      "---  ------          --------------  -----  \n",
      " 0   Region          100 non-null    object \n",
      " 1   Country         100 non-null    object \n",
      " 2   Item_Type       100 non-null    object \n",
      " 3   Sales_Channel   100 non-null    object \n",
      " 4   Order_Priority  100 non-null    object \n",
      " 5   Ship_Date       100 non-null    object \n",
      " 6   Unit_Cost       100 non-null    float64\n",
      " 7   Total_Revenue   100 non-null    float64\n",
      " 8   Total_Profit    100 non-null    float64\n",
      " 9   Unnamed: 9      0 non-null      float64\n",
      " 10  Unnamed: 10     0 non-null      float64\n",
      "dtypes: float64(5), object(6)\n",
      "memory usage: 8.7+ KB\n"
     ]
    }
   ],
   "source": [
    "df.info()"
   ]
  },
  {
   "cell_type": "code",
   "execution_count": 138,
   "id": "3e351f08-94e3-4db1-9c0f-3fe2976a6045",
   "metadata": {},
   "outputs": [
    {
     "data": {
      "text/html": [
       "<div>\n",
       "<style scoped>\n",
       "    .dataframe tbody tr th:only-of-type {\n",
       "        vertical-align: middle;\n",
       "    }\n",
       "\n",
       "    .dataframe tbody tr th {\n",
       "        vertical-align: top;\n",
       "    }\n",
       "\n",
       "    .dataframe thead th {\n",
       "        text-align: right;\n",
       "    }\n",
       "</style>\n",
       "<table border=\"1\" class=\"dataframe\">\n",
       "  <thead>\n",
       "    <tr style=\"text-align: right;\">\n",
       "      <th></th>\n",
       "      <th>Unit_Cost</th>\n",
       "      <th>Total_Revenue</th>\n",
       "      <th>Total_Profit</th>\n",
       "      <th>Unnamed: 9</th>\n",
       "      <th>Unnamed: 10</th>\n",
       "    </tr>\n",
       "  </thead>\n",
       "  <tbody>\n",
       "    <tr>\n",
       "      <th>count</th>\n",
       "      <td>100.000000</td>\n",
       "      <td>1.000000e+02</td>\n",
       "      <td>1.000000e+02</td>\n",
       "      <td>0.0</td>\n",
       "      <td>0.0</td>\n",
       "    </tr>\n",
       "    <tr>\n",
       "      <th>mean</th>\n",
       "      <td>191.048000</td>\n",
       "      <td>1.373488e+06</td>\n",
       "      <td>4.416820e+05</td>\n",
       "      <td>NaN</td>\n",
       "      <td>NaN</td>\n",
       "    </tr>\n",
       "    <tr>\n",
       "      <th>std</th>\n",
       "      <td>188.208181</td>\n",
       "      <td>1.460029e+06</td>\n",
       "      <td>4.385379e+05</td>\n",
       "      <td>NaN</td>\n",
       "      <td>NaN</td>\n",
       "    </tr>\n",
       "    <tr>\n",
       "      <th>min</th>\n",
       "      <td>6.920000</td>\n",
       "      <td>4.870260e+03</td>\n",
       "      <td>1.258020e+03</td>\n",
       "      <td>NaN</td>\n",
       "      <td>NaN</td>\n",
       "    </tr>\n",
       "    <tr>\n",
       "      <th>25%</th>\n",
       "      <td>35.840000</td>\n",
       "      <td>2.687212e+05</td>\n",
       "      <td>1.214436e+05</td>\n",
       "      <td>NaN</td>\n",
       "      <td>NaN</td>\n",
       "    </tr>\n",
       "    <tr>\n",
       "      <th>50%</th>\n",
       "      <td>107.275000</td>\n",
       "      <td>7.523144e+05</td>\n",
       "      <td>2.907680e+05</td>\n",
       "      <td>NaN</td>\n",
       "      <td>NaN</td>\n",
       "    </tr>\n",
       "    <tr>\n",
       "      <th>75%</th>\n",
       "      <td>263.330000</td>\n",
       "      <td>2.212045e+06</td>\n",
       "      <td>6.358288e+05</td>\n",
       "      <td>NaN</td>\n",
       "      <td>NaN</td>\n",
       "    </tr>\n",
       "    <tr>\n",
       "      <th>max</th>\n",
       "      <td>524.960000</td>\n",
       "      <td>5.997055e+06</td>\n",
       "      <td>1.719922e+06</td>\n",
       "      <td>NaN</td>\n",
       "      <td>NaN</td>\n",
       "    </tr>\n",
       "  </tbody>\n",
       "</table>\n",
       "</div>"
      ],
      "text/plain": [
       "        Unit_Cost  Total_Revenue  Total_Profit  Unnamed: 9  Unnamed: 10\n",
       "count  100.000000   1.000000e+02  1.000000e+02         0.0          0.0\n",
       "mean   191.048000   1.373488e+06  4.416820e+05         NaN          NaN\n",
       "std    188.208181   1.460029e+06  4.385379e+05         NaN          NaN\n",
       "min      6.920000   4.870260e+03  1.258020e+03         NaN          NaN\n",
       "25%     35.840000   2.687212e+05  1.214436e+05         NaN          NaN\n",
       "50%    107.275000   7.523144e+05  2.907680e+05         NaN          NaN\n",
       "75%    263.330000   2.212045e+06  6.358288e+05         NaN          NaN\n",
       "max    524.960000   5.997055e+06  1.719922e+06         NaN          NaN"
      ]
     },
     "execution_count": 138,
     "metadata": {},
     "output_type": "execute_result"
    }
   ],
   "source": [
    "df.describe()"
   ]
  },
  {
   "cell_type": "code",
   "execution_count": 139,
   "id": "9c548439-2477-4aa2-9202-589f80d92926",
   "metadata": {},
   "outputs": [
    {
     "data": {
      "text/html": [
       "<div>\n",
       "<style scoped>\n",
       "    .dataframe tbody tr th:only-of-type {\n",
       "        vertical-align: middle;\n",
       "    }\n",
       "\n",
       "    .dataframe tbody tr th {\n",
       "        vertical-align: top;\n",
       "    }\n",
       "\n",
       "    .dataframe thead th {\n",
       "        text-align: right;\n",
       "    }\n",
       "</style>\n",
       "<table border=\"1\" class=\"dataframe\">\n",
       "  <thead>\n",
       "    <tr style=\"text-align: right;\">\n",
       "      <th></th>\n",
       "      <th>Region</th>\n",
       "      <th>Country</th>\n",
       "      <th>Item_Type</th>\n",
       "      <th>Sales_Channel</th>\n",
       "      <th>Order_Priority</th>\n",
       "      <th>Ship_Date</th>\n",
       "      <th>Unit_Cost</th>\n",
       "      <th>Total_Revenue</th>\n",
       "      <th>Total_Profit</th>\n",
       "      <th>Unnamed: 9</th>\n",
       "      <th>Unnamed: 10</th>\n",
       "    </tr>\n",
       "  </thead>\n",
       "  <tbody>\n",
       "    <tr>\n",
       "      <th>0</th>\n",
       "      <td>Australia and Oceania</td>\n",
       "      <td>Tuvalu</td>\n",
       "      <td>Baby Food</td>\n",
       "      <td>Offline</td>\n",
       "      <td>H</td>\n",
       "      <td>27/06/2010</td>\n",
       "      <td>159.42</td>\n",
       "      <td>2533654.00</td>\n",
       "      <td>951410.50</td>\n",
       "      <td>NaN</td>\n",
       "      <td>NaN</td>\n",
       "    </tr>\n",
       "    <tr>\n",
       "      <th>1</th>\n",
       "      <td>Central America and the Caribbean</td>\n",
       "      <td>Grenada</td>\n",
       "      <td>Cereal</td>\n",
       "      <td>Online</td>\n",
       "      <td>C</td>\n",
       "      <td>15/09/2012</td>\n",
       "      <td>117.11</td>\n",
       "      <td>576782.80</td>\n",
       "      <td>248406.36</td>\n",
       "      <td>NaN</td>\n",
       "      <td>NaN</td>\n",
       "    </tr>\n",
       "    <tr>\n",
       "      <th>2</th>\n",
       "      <td>Europe</td>\n",
       "      <td>Russia</td>\n",
       "      <td>Office Supplies</td>\n",
       "      <td>Offline</td>\n",
       "      <td>L</td>\n",
       "      <td>05/08/2014</td>\n",
       "      <td>524.96</td>\n",
       "      <td>1158502.59</td>\n",
       "      <td>224598.75</td>\n",
       "      <td>NaN</td>\n",
       "      <td>NaN</td>\n",
       "    </tr>\n",
       "    <tr>\n",
       "      <th>3</th>\n",
       "      <td>Sub_Saharan Africa</td>\n",
       "      <td>Sao Tome and Principe</td>\n",
       "      <td>Fruits</td>\n",
       "      <td>Online</td>\n",
       "      <td>C</td>\n",
       "      <td>07/05/2014</td>\n",
       "      <td>6.92</td>\n",
       "      <td>75591.66</td>\n",
       "      <td>19525.82</td>\n",
       "      <td>NaN</td>\n",
       "      <td>NaN</td>\n",
       "    </tr>\n",
       "    <tr>\n",
       "      <th>4</th>\n",
       "      <td>Sub_Saharan Africa</td>\n",
       "      <td>Rwanda</td>\n",
       "      <td>Office Supplies</td>\n",
       "      <td>Offline</td>\n",
       "      <td>L</td>\n",
       "      <td>02/06/2013</td>\n",
       "      <td>524.96</td>\n",
       "      <td>3296425.02</td>\n",
       "      <td>639077.50</td>\n",
       "      <td>NaN</td>\n",
       "      <td>NaN</td>\n",
       "    </tr>\n",
       "  </tbody>\n",
       "</table>\n",
       "</div>"
      ],
      "text/plain": [
       "                              Region                Country        Item_Type  \\\n",
       "0              Australia and Oceania                 Tuvalu        Baby Food   \n",
       "1  Central America and the Caribbean                Grenada           Cereal   \n",
       "2                             Europe                 Russia  Office Supplies   \n",
       "3                 Sub_Saharan Africa  Sao Tome and Principe           Fruits   \n",
       "4                 Sub_Saharan Africa                 Rwanda  Office Supplies   \n",
       "\n",
       "  Sales_Channel Order_Priority   Ship_Date  Unit_Cost  Total_Revenue  \\\n",
       "0       Offline              H  27/06/2010     159.42     2533654.00   \n",
       "1        Online              C  15/09/2012     117.11      576782.80   \n",
       "2       Offline              L  05/08/2014     524.96     1158502.59   \n",
       "3        Online              C  07/05/2014       6.92       75591.66   \n",
       "4       Offline              L  02/06/2013     524.96     3296425.02   \n",
       "\n",
       "   Total_Profit  Unnamed: 9  Unnamed: 10  \n",
       "0     951410.50         NaN          NaN  \n",
       "1     248406.36         NaN          NaN  \n",
       "2     224598.75         NaN          NaN  \n",
       "3      19525.82         NaN          NaN  \n",
       "4     639077.50         NaN          NaN  "
      ]
     },
     "execution_count": 139,
     "metadata": {},
     "output_type": "execute_result"
    }
   ],
   "source": [
    "df.head()"
   ]
  },
  {
   "cell_type": "code",
   "execution_count": 140,
   "id": "af639825-ebe5-4c85-b236-e185b69d6d28",
   "metadata": {},
   "outputs": [],
   "source": [
    "df.dropna(axis = 1, inplace = True)"
   ]
  },
  {
   "cell_type": "code",
   "execution_count": 141,
   "id": "cb3425d6-0d61-4bf7-82a0-74fb18e8468d",
   "metadata": {},
   "outputs": [],
   "source": [
    "df.isnull().sum()\n",
    "# Replace '/' with '-' in 'Ship_Date' if necessary\n",
    "df['Ship_Date'] = df['Ship_Date'].str.replace('/', '-')\n",
    "\n",
    "# Convert 'Ship_Date' to datetime with the correct format\n",
    "df['Ship_Date'] = pd.to_datetime(df['Ship_Date'], format='%d-%m-%Y', errors='coerce')\n",
    "\n",
    "# Check for any parsing errors\n",
    "if df['Ship_Date'].isnull().any():\n",
    "    print(\"Some dates couldn't be parsed. Here are the problematic entries:\")\n",
    "    print(df[df['Ship_Date'].isnull()])\n",
    "    # Drop rows with missing 'Ship_Date'\n",
    "    df.dropna(subset=['Ship_Date'], inplace=True)\n",
    "\n",
    "# Extract date features\n",
    "df['Ship_Year'] = df['Ship_Date'].dt.year\n",
    "df['Ship_Month'] = df['Ship_Date'].dt.month\n",
    "df['Ship_Day'] = df['Ship_Date'].dt.day\n",
    "\n",
    "# Drop 'Ship_Date' as it's no longer needed\n",
    "df.drop('Ship_Date', axis=1, inplace=True)\n",
    "\n",
    "# Ensure date features are numerical\n",
    "df[['Ship_Year', 'Ship_Month', 'Ship_Day']] = df[['Ship_Year', 'Ship_Month', 'Ship_Day']].astype(int)"
   ]
  },
  {
   "cell_type": "code",
   "execution_count": 142,
   "id": "de6ac042-27ef-4ee1-95c0-3109f9d1b004",
   "metadata": {},
   "outputs": [
    {
     "data": {
      "text/plain": [
       "Region            0\n",
       "Country           0\n",
       "Item_Type         0\n",
       "Sales_Channel     0\n",
       "Order_Priority    0\n",
       "Unit_Cost         0\n",
       "Total_Revenue     0\n",
       "Total_Profit      0\n",
       "Ship_Year         0\n",
       "Ship_Month        0\n",
       "Ship_Day          0\n",
       "dtype: int64"
      ]
     },
     "execution_count": 142,
     "metadata": {},
     "output_type": "execute_result"
    }
   ],
   "source": [
    "df.isnull().sum()"
   ]
  },
  {
   "cell_type": "code",
   "execution_count": 143,
   "id": "175d2a6c-11a4-41c4-85af-f3cdb92fe4f2",
   "metadata": {},
   "outputs": [
    {
     "data": {
      "image/png": "[encoded data removed]",
      "text/plain": [
       "<Figure size 640x480 with 1 Axes>"
      ]
     },
     "metadata": {},
     "output_type": "display_data"
    },
    {
     "data": {
      "image/png": "[encoded data removed]",
      "text/plain": [
       "<Figure size 640x480 with 1 Axes>"
      ]
     },
     "metadata": {},
     "output_type": "display_data"
    },
    {
     "data": {
      "image/png": "[encoded data removed]",
      "text/plain": [
       "<Figure size 640x480 with 1 Axes>"
      ]
     },
     "metadata": {},
     "output_type": "display_data"
    },
    {
     "data": {
      "image/png": "[encoded data removed]",
      "text/plain": [
       "<Figure size 640x480 with 1 Axes>"
      ]
     },
     "metadata": {},
     "output_type": "display_data"
    },
    {
     "data": {
      "image/png": "[encoded data removed]",
      "text/plain": [
       "<Figure size 640x480 with 1 Axes>"
      ]
     },
     "metadata": {},
     "output_type": "display_data"
    },
    {
     "data": {
      "image/png": "[encoded data removed]",
      "text/plain": [
       "<Figure size 640x480 with 1 Axes>"
      ]
     },
     "metadata": {},
     "output_type": "display_data"
    }
   ],
   "source": [
    "#Plotting box plots and historagrams to figure out the outliers and collinearity too\n",
    "sns.histplot(df['Total_Profit'], bins=100, kde=True)\n",
    "plt.title('Distribution of Total_Profit')\n",
    "plt.show()\n",
    "\n",
    "sns.histplot(df['Total_Revenue'], bins=100, kde=True)\n",
    "plt.title('Distribution of Total_Revenue')\n",
    "plt.show()\n",
    "\n",
    "sns.histplot(df['Unit_Cost'], bins=100, kde=True)\n",
    "plt.title('Distribution of Unit_Cost')\n",
    "plt.show()\n",
    "\n",
    "sns.boxplot(df['Total_Profit'])\n",
    "plt.title('Boxplot of Total_Profit')\n",
    "plt.show()\n",
    "\n",
    "sns.boxplot(df['Total_Revenue'])\n",
    "plt.title('Boxplot of Total_Revenue')\n",
    "plt.show()\n",
    "\n",
    "sns.boxplot(df['Unit_Cost'])\n",
    "plt.title('Boxplot of Unit_Cost')\n",
    "plt.show()"
   ]
  },
  {
   "cell_type": "code",
   "execution_count": 144,
   "id": "fb29edfd-9ad2-4db7-a64e-036d76fabd6e",
   "metadata": {},
   "outputs": [
    {
     "data": {
      "image/png": "[encoded data removed]",
      "text/plain": [
       "<Figure size 800x600 with 2 Axes>"
      ]
     },
     "metadata": {},
     "output_type": "display_data"
    },
    {
     "name": "stdout",
     "output_type": "stream",
     "text": [
      "Variance Inflation Factors (VIF):\n",
      "         Feature        VIF\n",
      "0          const   2.759755\n",
      "1      Unit_Cost   3.023022\n",
      "2  Total_Revenue  12.130779\n",
      "3   Total_Profit   7.571103\n"
     ]
    }
   ],
   "source": [
    "from statsmodels.stats.outliers_influence import variance_inflation_factor\n",
    "from statsmodels.tools.tools import add_constant\n",
    "\n",
    "def plot_correlation_and_vif(data, column_names):\n",
    "    \"\"\"\n",
    "    This function plots the correlation matrix and calculates VIF for the given columns.\n",
    "    \n",
    "    Parameters:\n",
    "    - data: pandas DataFrame, the dataset containing the columns.\n",
    "    - column_names: list of strings, the names of the columns to analyze.\n",
    "    \n",
    "    Returns:\n",
    "    - None, but it will plot the correlation matrix and print the VIF values.\n",
    "    \"\"\"\n",
    "    \n",
    "    # Select the columns from the data\n",
    "    X = data[column_names]\n",
    "    \n",
    "    # 1. Plot the Correlation Matrix\n",
    "    correlation_matrix = X.corr()\n",
    "    \n",
    "    plt.figure(figsize=(8, 6))\n",
    "    sns.heatmap(correlation_matrix, annot=True, cmap='coolwarm', fmt='.2f', cbar=True)\n",
    "    plt.title('Correlation Matrix')\n",
    "    plt.show()\n",
    "    \n",
    "    # 2. Calculate the VIF values\n",
    "    X_with_const = add_constant(X)  # Adding constant for intercept\n",
    "    vif_data = pd.DataFrame()\n",
    "    vif_data[\"Feature\"] = X_with_const.columns\n",
    "    vif_data[\"VIF\"] = [variance_inflation_factor(X_with_const.values, i) for i in range(X_with_const.shape[1])]\n",
    "    \n",
    "    # Print VIF values\n",
    "    print(\"Variance Inflation Factors (VIF):\")\n",
    "    print(vif_data)\n",
    "\n",
    "column_names = ['Unit_Cost', 'Total_Revenue', 'Total_Profit']  # Replace with your columns\n",
    "plot_correlation_and_vif(df, column_names)"
   ]
  },
  {
   "cell_type": "code",
   "execution_count": 145,
   "id": "63720c0e-baa1-40a6-9aa6-0133149996bd",
   "metadata": {},
   "outputs": [
    {
     "data": {
      "text/plain": [
       "Region              7\n",
       "Country            76\n",
       "Item_Type          12\n",
       "Sales_Channel       2\n",
       "Order_Priority      4\n",
       "Unit_Cost          12\n",
       "Total_Revenue     100\n",
       "Total_Profit      100\n",
       "Ship_Year           8\n",
       "Ship_Month         12\n",
       "Ship_Day           30\n",
       "dtype: int64"
      ]
     },
     "execution_count": 145,
     "metadata": {},
     "output_type": "execute_result"
    }
   ],
   "source": [
    "df.nunique()"
   ]
  },
  {
   "cell_type": "code",
   "execution_count": 146,
   "id": "61804612-2eaa-46c1-a254-bef9997b2be7",
   "metadata": {},
   "outputs": [
    {
     "data": {
      "text/html": [
       "<div>\n",
       "<style scoped>\n",
       "    .dataframe tbody tr th:only-of-type {\n",
       "        vertical-align: middle;\n",
       "    }\n",
       "\n",
       "    .dataframe tbody tr th {\n",
       "        vertical-align: top;\n",
       "    }\n",
       "\n",
       "    .dataframe thead th {\n",
       "        text-align: right;\n",
       "    }\n",
       "</style>\n",
       "<table border=\"1\" class=\"dataframe\">\n",
       "  <thead>\n",
       "    <tr style=\"text-align: right;\">\n",
       "      <th></th>\n",
       "      <th>nom__Region_Australia and Oceania</th>\n",
       "      <th>nom__Region_Central America and the Caribbean</th>\n",
       "      <th>nom__Region_Europe</th>\n",
       "      <th>nom__Region_Middle East and North Africa</th>\n",
       "      <th>nom__Region_North America</th>\n",
       "      <th>nom__Region_Sub_Saharan Africa</th>\n",
       "      <th>nom__Sales_Channel_Online</th>\n",
       "      <th>Order_Priority</th>\n",
       "      <th>Unit_Cost</th>\n",
       "      <th>Total_Revenue</th>\n",
       "      <th>...</th>\n",
       "      <th>Item_Type_Cereal</th>\n",
       "      <th>Item_Type_Clothes</th>\n",
       "      <th>Item_Type_Cosmetics</th>\n",
       "      <th>Item_Type_Fruits</th>\n",
       "      <th>Item_Type_Household</th>\n",
       "      <th>Item_Type_Meat</th>\n",
       "      <th>Item_Type_Office Supplies</th>\n",
       "      <th>Item_Type_Personal Care</th>\n",
       "      <th>Item_Type_Snacks</th>\n",
       "      <th>Item_Type_Vegetables</th>\n",
       "    </tr>\n",
       "  </thead>\n",
       "  <tbody>\n",
       "    <tr>\n",
       "      <th>0</th>\n",
       "      <td>1.0</td>\n",
       "      <td>0.0</td>\n",
       "      <td>0.0</td>\n",
       "      <td>0.0</td>\n",
       "      <td>0.0</td>\n",
       "      <td>0.0</td>\n",
       "      <td>0.0</td>\n",
       "      <td>H</td>\n",
       "      <td>159.42</td>\n",
       "      <td>2533654.0</td>\n",
       "      <td>...</td>\n",
       "      <td>False</td>\n",
       "      <td>False</td>\n",
       "      <td>False</td>\n",
       "      <td>False</td>\n",
       "      <td>False</td>\n",
       "      <td>False</td>\n",
       "      <td>False</td>\n",
       "      <td>False</td>\n",
       "      <td>False</td>\n",
       "      <td>False</td>\n",
       "    </tr>\n",
       "    <tr>\n",
       "      <th>1</th>\n",
       "      <td>0.0</td>\n",
       "      <td>1.0</td>\n",
       "      <td>0.0</td>\n",
       "      <td>0.0</td>\n",
       "      <td>0.0</td>\n",
       "      <td>0.0</td>\n",
       "      <td>1.0</td>\n",
       "      <td>C</td>\n",
       "      <td>117.11</td>\n",
       "      <td>576782.8</td>\n",
       "      <td>...</td>\n",
       "      <td>True</td>\n",
       "      <td>False</td>\n",
       "      <td>False</td>\n",
       "      <td>False</td>\n",
       "      <td>False</td>\n",
       "      <td>False</td>\n",
       "      <td>False</td>\n",
       "      <td>False</td>\n",
       "      <td>False</td>\n",
       "      <td>False</td>\n",
       "    </tr>\n",
       "    <tr>\n",
       "      <th>2</th>\n",
       "      <td>0.0</td>\n",
       "      <td>0.0</td>\n",
       "      <td>1.0</td>\n",
       "      <td>0.0</td>\n",
       "      <td>0.0</td>\n",
       "      <td>0.0</td>\n",
       "      <td>0.0</td>\n",
       "      <td>L</td>\n",
       "      <td>524.96</td>\n",
       "      <td>1158502.59</td>\n",
       "      <td>...</td>\n",
       "      <td>False</td>\n",
       "      <td>False</td>\n",
       "      <td>False</td>\n",
       "      <td>False</td>\n",
       "      <td>False</td>\n",
       "      <td>False</td>\n",
       "      <td>True</td>\n",
       "      <td>False</td>\n",
       "      <td>False</td>\n",
       "      <td>False</td>\n",
       "    </tr>\n",
       "    <tr>\n",
       "      <th>3</th>\n",
       "      <td>0.0</td>\n",
       "      <td>0.0</td>\n",
       "      <td>0.0</td>\n",
       "      <td>0.0</td>\n",
       "      <td>0.0</td>\n",
       "      <td>1.0</td>\n",
       "      <td>1.0</td>\n",
       "      <td>C</td>\n",
       "      <td>6.92</td>\n",
       "      <td>75591.66</td>\n",
       "      <td>...</td>\n",
       "      <td>False</td>\n",
       "      <td>False</td>\n",
       "      <td>False</td>\n",
       "      <td>True</td>\n",
       "      <td>False</td>\n",
       "      <td>False</td>\n",
       "      <td>False</td>\n",
       "      <td>False</td>\n",
       "      <td>False</td>\n",
       "      <td>False</td>\n",
       "    </tr>\n",
       "    <tr>\n",
       "      <th>4</th>\n",
       "      <td>0.0</td>\n",
       "      <td>0.0</td>\n",
       "      <td>0.0</td>\n",
       "      <td>0.0</td>\n",
       "      <td>0.0</td>\n",
       "      <td>1.0</td>\n",
       "      <td>0.0</td>\n",
       "      <td>L</td>\n",
       "      <td>524.96</td>\n",
       "      <td>3296425.02</td>\n",
       "      <td>...</td>\n",
       "      <td>False</td>\n",
       "      <td>False</td>\n",
       "      <td>False</td>\n",
       "      <td>False</td>\n",
       "      <td>False</td>\n",
       "      <td>False</td>\n",
       "      <td>True</td>\n",
       "      <td>False</td>\n",
       "      <td>False</td>\n",
       "      <td>False</td>\n",
       "    </tr>\n",
       "    <tr>\n",
       "      <th>...</th>\n",
       "      <td>...</td>\n",
       "      <td>...</td>\n",
       "      <td>...</td>\n",
       "      <td>...</td>\n",
       "      <td>...</td>\n",
       "      <td>...</td>\n",
       "      <td>...</td>\n",
       "      <td>...</td>\n",
       "      <td>...</td>\n",
       "      <td>...</td>\n",
       "      <td>...</td>\n",
       "      <td>...</td>\n",
       "      <td>...</td>\n",
       "      <td>...</td>\n",
       "      <td>...</td>\n",
       "      <td>...</td>\n",
       "      <td>...</td>\n",
       "      <td>...</td>\n",
       "      <td>...</td>\n",
       "      <td>...</td>\n",
       "      <td>...</td>\n",
       "    </tr>\n",
       "    <tr>\n",
       "      <th>95</th>\n",
       "      <td>0.0</td>\n",
       "      <td>0.0</td>\n",
       "      <td>0.0</td>\n",
       "      <td>0.0</td>\n",
       "      <td>0.0</td>\n",
       "      <td>1.0</td>\n",
       "      <td>1.0</td>\n",
       "      <td>M</td>\n",
       "      <td>35.84</td>\n",
       "      <td>97040.64</td>\n",
       "      <td>...</td>\n",
       "      <td>False</td>\n",
       "      <td>True</td>\n",
       "      <td>False</td>\n",
       "      <td>False</td>\n",
       "      <td>False</td>\n",
       "      <td>False</td>\n",
       "      <td>False</td>\n",
       "      <td>False</td>\n",
       "      <td>False</td>\n",
       "      <td>False</td>\n",
       "    </tr>\n",
       "    <tr>\n",
       "      <th>96</th>\n",
       "      <td>0.0</td>\n",
       "      <td>0.0</td>\n",
       "      <td>0.0</td>\n",
       "      <td>0.0</td>\n",
       "      <td>0.0</td>\n",
       "      <td>0.0</td>\n",
       "      <td>0.0</td>\n",
       "      <td>L</td>\n",
       "      <td>6.92</td>\n",
       "      <td>58471.11</td>\n",
       "      <td>...</td>\n",
       "      <td>False</td>\n",
       "      <td>False</td>\n",
       "      <td>False</td>\n",
       "      <td>True</td>\n",
       "      <td>False</td>\n",
       "      <td>False</td>\n",
       "      <td>False</td>\n",
       "      <td>False</td>\n",
       "      <td>False</td>\n",
       "      <td>False</td>\n",
       "    </tr>\n",
       "    <tr>\n",
       "      <th>97</th>\n",
       "      <td>0.0</td>\n",
       "      <td>0.0</td>\n",
       "      <td>0.0</td>\n",
       "      <td>0.0</td>\n",
       "      <td>0.0</td>\n",
       "      <td>1.0</td>\n",
       "      <td>0.0</td>\n",
       "      <td>C</td>\n",
       "      <td>90.93</td>\n",
       "      <td>228779.1</td>\n",
       "      <td>...</td>\n",
       "      <td>False</td>\n",
       "      <td>False</td>\n",
       "      <td>False</td>\n",
       "      <td>False</td>\n",
       "      <td>False</td>\n",
       "      <td>False</td>\n",
       "      <td>False</td>\n",
       "      <td>False</td>\n",
       "      <td>False</td>\n",
       "      <td>True</td>\n",
       "    </tr>\n",
       "    <tr>\n",
       "      <th>98</th>\n",
       "      <td>0.0</td>\n",
       "      <td>0.0</td>\n",
       "      <td>0.0</td>\n",
       "      <td>0.0</td>\n",
       "      <td>1.0</td>\n",
       "      <td>0.0</td>\n",
       "      <td>0.0</td>\n",
       "      <td>M</td>\n",
       "      <td>56.67</td>\n",
       "      <td>471336.91</td>\n",
       "      <td>...</td>\n",
       "      <td>False</td>\n",
       "      <td>False</td>\n",
       "      <td>False</td>\n",
       "      <td>False</td>\n",
       "      <td>False</td>\n",
       "      <td>False</td>\n",
       "      <td>False</td>\n",
       "      <td>True</td>\n",
       "      <td>False</td>\n",
       "      <td>False</td>\n",
       "    </tr>\n",
       "    <tr>\n",
       "      <th>99</th>\n",
       "      <td>0.0</td>\n",
       "      <td>0.0</td>\n",
       "      <td>0.0</td>\n",
       "      <td>0.0</td>\n",
       "      <td>0.0</td>\n",
       "      <td>1.0</td>\n",
       "      <td>0.0</td>\n",
       "      <td>L</td>\n",
       "      <td>502.54</td>\n",
       "      <td>3586605.09</td>\n",
       "      <td>...</td>\n",
       "      <td>False</td>\n",
       "      <td>False</td>\n",
       "      <td>False</td>\n",
       "      <td>False</td>\n",
       "      <td>True</td>\n",
       "      <td>False</td>\n",
       "      <td>False</td>\n",
       "      <td>False</td>\n",
       "      <td>False</td>\n",
       "      <td>False</td>\n",
       "    </tr>\n",
       "  </tbody>\n",
       "</table>\n",
       "<p>100 rows × 26 columns</p>\n",
       "</div>"
      ],
      "text/plain": [
       "   nom__Region_Australia and Oceania  \\\n",
       "0                                1.0   \n",
       "1                                0.0   \n",
       "2                                0.0   \n",
       "3                                0.0   \n",
       "4                                0.0   \n",
       "..                               ...   \n",
       "95                               0.0   \n",
       "96                               0.0   \n",
       "97                               0.0   \n",
       "98                               0.0   \n",
       "99                               0.0   \n",
       "\n",
       "   nom__Region_Central America and the Caribbean nom__Region_Europe  \\\n",
       "0                                            0.0                0.0   \n",
       "1                                            1.0                0.0   \n",
       "2                                            0.0                1.0   \n",
       "3                                            0.0                0.0   \n",
       "4                                            0.0                0.0   \n",
       "..                                           ...                ...   \n",
       "95                                           0.0                0.0   \n",
       "96                                           0.0                0.0   \n",
       "97                                           0.0                0.0   \n",
       "98                                           0.0                0.0   \n",
       "99                                           0.0                0.0   \n",
       "\n",
       "   nom__Region_Middle East and North Africa nom__Region_North America  \\\n",
       "0                                       0.0                       0.0   \n",
       "1                                       0.0                       0.0   \n",
       "2                                       0.0                       0.0   \n",
       "3                                       0.0                       0.0   \n",
       "4                                       0.0                       0.0   \n",
       "..                                      ...                       ...   \n",
       "95                                      0.0                       0.0   \n",
       "96                                      0.0                       0.0   \n",
       "97                                      0.0                       0.0   \n",
       "98                                      0.0                       1.0   \n",
       "99                                      0.0                       0.0   \n",
       "\n",
       "   nom__Region_Sub_Saharan Africa nom__Sales_Channel_Online Order_Priority  \\\n",
       "0                             0.0                       0.0              H   \n",
       "1                             0.0                       1.0              C   \n",
       "2                             0.0                       0.0              L   \n",
       "3                             1.0                       1.0              C   \n",
       "4                             1.0                       0.0              L   \n",
       "..                            ...                       ...            ...   \n",
       "95                            1.0                       1.0              M   \n",
       "96                            0.0                       0.0              L   \n",
       "97                            1.0                       0.0              C   \n",
       "98                            0.0                       0.0              M   \n",
       "99                            1.0                       0.0              L   \n",
       "\n",
       "   Unit_Cost Total_Revenue  ... Item_Type_Cereal Item_Type_Clothes  \\\n",
       "0     159.42     2533654.0  ...            False             False   \n",
       "1     117.11      576782.8  ...             True             False   \n",
       "2     524.96    1158502.59  ...            False             False   \n",
       "3       6.92      75591.66  ...            False             False   \n",
       "4     524.96    3296425.02  ...            False             False   \n",
       "..       ...           ...  ...              ...               ...   \n",
       "95     35.84      97040.64  ...            False              True   \n",
       "96      6.92      58471.11  ...            False             False   \n",
       "97     90.93      228779.1  ...            False             False   \n",
       "98     56.67     471336.91  ...            False             False   \n",
       "99    502.54    3586605.09  ...            False             False   \n",
       "\n",
       "   Item_Type_Cosmetics Item_Type_Fruits  Item_Type_Household  Item_Type_Meat  \\\n",
       "0                False            False                False           False   \n",
       "1                False            False                False           False   \n",
       "2                False            False                False           False   \n",
       "3                False             True                False           False   \n",
       "4                False            False                False           False   \n",
       "..                 ...              ...                  ...             ...   \n",
       "95               False            False                False           False   \n",
       "96               False             True                False           False   \n",
       "97               False            False                False           False   \n",
       "98               False            False                False           False   \n",
       "99               False            False                 True           False   \n",
       "\n",
       "    Item_Type_Office Supplies  Item_Type_Personal Care  Item_Type_Snacks  \\\n",
       "0                       False                    False             False   \n",
       "1                       False                    False             False   \n",
       "2                        True                    False             False   \n",
       "3                       False                    False             False   \n",
       "4                        True                    False             False   \n",
       "..                        ...                      ...               ...   \n",
       "95                      False                    False             False   \n",
       "96                      False                    False             False   \n",
       "97                      False                    False             False   \n",
       "98                      False                     True             False   \n",
       "99                      False                    False             False   \n",
       "\n",
       "    Item_Type_Vegetables  \n",
       "0                  False  \n",
       "1                  False  \n",
       "2                  False  \n",
       "3                  False  \n",
       "4                  False  \n",
       "..                   ...  \n",
       "95                 False  \n",
       "96                 False  \n",
       "97                  True  \n",
       "98                 False  \n",
       "99                 False  \n",
       "\n",
       "[100 rows x 26 columns]"
      ]
     },
     "execution_count": 146,
     "metadata": {},
     "output_type": "execute_result"
    }
   ],
   "source": [
    "from sklearn.compose import ColumnTransformer\n",
    "from sklearn.preprocessing import OneHotEncoder, OrdinalEncoder\n",
    "import pandas as pd\n",
    "\n",
    "# Drop the 'Country' column as it's not being used\n",
    "df = df.drop(columns=['Country'])\n",
    "\n",
    "# Define the ColumnTransformer to apply OneHotEncoder to categorical variables\n",
    "column_transformer = ColumnTransformer(\n",
    "    transformers=[\n",
    "        ('nom', OneHotEncoder(drop='first'), ['Region', 'Sales_Channel']),\n",
    "        # 'Order_Priority' will be handled separately using OrdinalEncoder\n",
    "    ],\n",
    "    remainder='passthrough'  # Leave the other columns unchanged\n",
    ")\n",
    "\n",
    "# Apply the transformation to the dataset (OneHotEncoder will be applied to 'Region' and 'Sales_Channel')\n",
    "transformed_data = column_transformer.fit_transform(df)\n",
    "\n",
    "# Apply OrdinalEncoder to 'Order_Priority' column separately\n",
    "# Define the custom priority order: Critical > High > Medium > Low\n",
    "priority_order = ['L', 'M', 'H', 'C']  # Low < Medium < High < Critical\n",
    "ordinal_encoder = OrdinalEncoder(categories=[priority_order])\n",
    "\n",
    "# Apply OrdinalEncoder to the 'Order_Priority' column\n",
    "df['Order_Priority'] = ordinal_encoder.fit_transform(df[['Order_Priority']])\n",
    "\n",
    "# Convert the transformed data back into a DataFrame\n",
    "# The column names are generated by the ColumnTransformer for the OneHotEncoded columns\n",
    "df_transformed = pd.DataFrame(transformed_data, columns=column_transformer.get_feature_names_out())\n",
    "\n",
    "# Now, include the 'Order_Priority' column that was label encoded\n",
    "df_transformed['Order_Priority'] = df['Order_Priority']\n",
    "\n",
    "# Clean up column names by removing the 'remainder__' prefix for readability\n",
    "df_transformed.columns = [col.replace('remainder__', '') for col in df_transformed.columns]\n",
    "\n",
    "# Display the transformed dataframe\n",
    "df = df_transformed\n",
    "df = pd.get_dummies(df, columns=['Item_Type'], drop_first=True)\n",
    "df\n"
   ]
  },
  {
   "cell_type": "code",
   "execution_count": 147,
   "id": "0da17139-c531-44c4-ae2f-bc3897bdb2e6",
   "metadata": {},
   "outputs": [
    {
     "data": {
      "text/html": [
       "<div>\n",
       "<style scoped>\n",
       "    .dataframe tbody tr th:only-of-type {\n",
       "        vertical-align: middle;\n",
       "    }\n",
       "\n",
       "    .dataframe tbody tr th {\n",
       "        vertical-align: top;\n",
       "    }\n",
       "\n",
       "    .dataframe thead th {\n",
       "        text-align: right;\n",
       "    }\n",
       "</style>\n",
       "<table border=\"1\" class=\"dataframe\">\n",
       "  <thead>\n",
       "    <tr style=\"text-align: right;\">\n",
       "      <th></th>\n",
       "      <th>nom__Region_Australia and Oceania</th>\n",
       "      <th>nom__Region_Central America and the Caribbean</th>\n",
       "      <th>nom__Region_Europe</th>\n",
       "      <th>nom__Region_Middle East and North Africa</th>\n",
       "      <th>nom__Region_North America</th>\n",
       "      <th>nom__Region_Sub_Saharan Africa</th>\n",
       "      <th>nom__Sales_Channel_Online</th>\n",
       "      <th>Order_Priority</th>\n",
       "      <th>Unit_Cost</th>\n",
       "      <th>Total_Revenue</th>\n",
       "      <th>...</th>\n",
       "      <th>Item_Type_Cereal</th>\n",
       "      <th>Item_Type_Clothes</th>\n",
       "      <th>Item_Type_Cosmetics</th>\n",
       "      <th>Item_Type_Fruits</th>\n",
       "      <th>Item_Type_Household</th>\n",
       "      <th>Item_Type_Meat</th>\n",
       "      <th>Item_Type_Office Supplies</th>\n",
       "      <th>Item_Type_Personal Care</th>\n",
       "      <th>Item_Type_Snacks</th>\n",
       "      <th>Item_Type_Vegetables</th>\n",
       "    </tr>\n",
       "  </thead>\n",
       "  <tbody>\n",
       "    <tr>\n",
       "      <th>0</th>\n",
       "      <td>1.0</td>\n",
       "      <td>0.0</td>\n",
       "      <td>0.0</td>\n",
       "      <td>0.0</td>\n",
       "      <td>0.0</td>\n",
       "      <td>0.0</td>\n",
       "      <td>0.0</td>\n",
       "      <td>H</td>\n",
       "      <td>159.42</td>\n",
       "      <td>2533654.0</td>\n",
       "      <td>...</td>\n",
       "      <td>False</td>\n",
       "      <td>False</td>\n",
       "      <td>False</td>\n",
       "      <td>False</td>\n",
       "      <td>False</td>\n",
       "      <td>False</td>\n",
       "      <td>False</td>\n",
       "      <td>False</td>\n",
       "      <td>False</td>\n",
       "      <td>False</td>\n",
       "    </tr>\n",
       "    <tr>\n",
       "      <th>1</th>\n",
       "      <td>0.0</td>\n",
       "      <td>1.0</td>\n",
       "      <td>0.0</td>\n",
       "      <td>0.0</td>\n",
       "      <td>0.0</td>\n",
       "      <td>0.0</td>\n",
       "      <td>1.0</td>\n",
       "      <td>C</td>\n",
       "      <td>117.11</td>\n",
       "      <td>576782.8</td>\n",
       "      <td>...</td>\n",
       "      <td>True</td>\n",
       "      <td>False</td>\n",
       "      <td>False</td>\n",
       "      <td>False</td>\n",
       "      <td>False</td>\n",
       "      <td>False</td>\n",
       "      <td>False</td>\n",
       "      <td>False</td>\n",
       "      <td>False</td>\n",
       "      <td>False</td>\n",
       "    </tr>\n",
       "    <tr>\n",
       "      <th>2</th>\n",
       "      <td>0.0</td>\n",
       "      <td>0.0</td>\n",
       "      <td>1.0</td>\n",
       "      <td>0.0</td>\n",
       "      <td>0.0</td>\n",
       "      <td>0.0</td>\n",
       "      <td>0.0</td>\n",
       "      <td>L</td>\n",
       "      <td>524.96</td>\n",
       "      <td>1158502.59</td>\n",
       "      <td>...</td>\n",
       "      <td>False</td>\n",
       "      <td>False</td>\n",
       "      <td>False</td>\n",
       "      <td>False</td>\n",
       "      <td>False</td>\n",
       "      <td>False</td>\n",
       "      <td>True</td>\n",
       "      <td>False</td>\n",
       "      <td>False</td>\n",
       "      <td>False</td>\n",
       "    </tr>\n",
       "    <tr>\n",
       "      <th>3</th>\n",
       "      <td>0.0</td>\n",
       "      <td>0.0</td>\n",
       "      <td>0.0</td>\n",
       "      <td>0.0</td>\n",
       "      <td>0.0</td>\n",
       "      <td>1.0</td>\n",
       "      <td>1.0</td>\n",
       "      <td>C</td>\n",
       "      <td>6.92</td>\n",
       "      <td>75591.66</td>\n",
       "      <td>...</td>\n",
       "      <td>False</td>\n",
       "      <td>False</td>\n",
       "      <td>False</td>\n",
       "      <td>True</td>\n",
       "      <td>False</td>\n",
       "      <td>False</td>\n",
       "      <td>False</td>\n",
       "      <td>False</td>\n",
       "      <td>False</td>\n",
       "      <td>False</td>\n",
       "    </tr>\n",
       "    <tr>\n",
       "      <th>4</th>\n",
       "      <td>0.0</td>\n",
       "      <td>0.0</td>\n",
       "      <td>0.0</td>\n",
       "      <td>0.0</td>\n",
       "      <td>0.0</td>\n",
       "      <td>1.0</td>\n",
       "      <td>0.0</td>\n",
       "      <td>L</td>\n",
       "      <td>524.96</td>\n",
       "      <td>3296425.02</td>\n",
       "      <td>...</td>\n",
       "      <td>False</td>\n",
       "      <td>False</td>\n",
       "      <td>False</td>\n",
       "      <td>False</td>\n",
       "      <td>False</td>\n",
       "      <td>False</td>\n",
       "      <td>True</td>\n",
       "      <td>False</td>\n",
       "      <td>False</td>\n",
       "      <td>False</td>\n",
       "    </tr>\n",
       "  </tbody>\n",
       "</table>\n",
       "<p>5 rows × 26 columns</p>\n",
       "</div>"
      ],
      "text/plain": [
       "  nom__Region_Australia and Oceania  \\\n",
       "0                               1.0   \n",
       "1                               0.0   \n",
       "2                               0.0   \n",
       "3                               0.0   \n",
       "4                               0.0   \n",
       "\n",
       "  nom__Region_Central America and the Caribbean nom__Region_Europe  \\\n",
       "0                                           0.0                0.0   \n",
       "1                                           1.0                0.0   \n",
       "2                                           0.0                1.0   \n",
       "3                                           0.0                0.0   \n",
       "4                                           0.0                0.0   \n",
       "\n",
       "  nom__Region_Middle East and North Africa nom__Region_North America  \\\n",
       "0                                      0.0                       0.0   \n",
       "1                                      0.0                       0.0   \n",
       "2                                      0.0                       0.0   \n",
       "3                                      0.0                       0.0   \n",
       "4                                      0.0                       0.0   \n",
       "\n",
       "  nom__Region_Sub_Saharan Africa nom__Sales_Channel_Online Order_Priority  \\\n",
       "0                            0.0                       0.0              H   \n",
       "1                            0.0                       1.0              C   \n",
       "2                            0.0                       0.0              L   \n",
       "3                            1.0                       1.0              C   \n",
       "4                            1.0                       0.0              L   \n",
       "\n",
       "  Unit_Cost Total_Revenue  ... Item_Type_Cereal Item_Type_Clothes  \\\n",
       "0    159.42     2533654.0  ...            False             False   \n",
       "1    117.11      576782.8  ...             True             False   \n",
       "2    524.96    1158502.59  ...            False             False   \n",
       "3      6.92      75591.66  ...            False             False   \n",
       "4    524.96    3296425.02  ...            False             False   \n",
       "\n",
       "  Item_Type_Cosmetics Item_Type_Fruits  Item_Type_Household  Item_Type_Meat  \\\n",
       "0               False            False                False           False   \n",
       "1               False            False                False           False   \n",
       "2               False            False                False           False   \n",
       "3               False             True                False           False   \n",
       "4               False            False                False           False   \n",
       "\n",
       "   Item_Type_Office Supplies  Item_Type_Personal Care  Item_Type_Snacks  \\\n",
       "0                      False                    False             False   \n",
       "1                      False                    False             False   \n",
       "2                       True                    False             False   \n",
       "3                      False                    False             False   \n",
       "4                       True                    False             False   \n",
       "\n",
       "   Item_Type_Vegetables  \n",
       "0                 False  \n",
       "1                 False  \n",
       "2                 False  \n",
       "3                 False  \n",
       "4                 False  \n",
       "\n",
       "[5 rows x 26 columns]"
      ]
     },
     "execution_count": 147,
     "metadata": {},
     "output_type": "execute_result"
    }
   ],
   "source": [
    "# List of numerical columns (assuming they are in the DataFrame)\n",
    "numerical_columns = ['Unit_Cost', 'Total_Revenue', 'Total_Profit']\n",
    "\n",
    "# Function to cap outliers based on IQR\n",
    "def cap_outliers_iqr(df, cols):\n",
    "    for col in cols:\n",
    "        # Calculate Q1, Q3, and IQR for the column\n",
    "        Q1 = df[col].quantile(0.25)\n",
    "        Q3 = df[col].quantile(0.75)\n",
    "        IQR = Q3 - Q1\n",
    "        \n",
    "        # Calculate the lower and upper bounds for outliers\n",
    "        lower_bound = Q1 - 1.5 * IQR\n",
    "        upper_bound = Q3 + 1.5 * IQR\n",
    "        \n",
    "        # Cap the values to the bounds\n",
    "        df[col] = np.where(df[col] < lower_bound, lower_bound, df[col])\n",
    "        df[col] = np.where(df[col] > upper_bound, upper_bound, df[col])\n",
    "    \n",
    "    return df\n",
    "\n",
    "# Apply the function to cap outliers for the numerical columns\n",
    "df = cap_outliers_iqr(df, numerical_columns)\n",
    "\n",
    "# Display the DataFrame to check if outliers are capped\n",
    "df.head()"
   ]
  },
  {
   "cell_type": "code",
   "execution_count": 148,
   "id": "46d819c9-51eb-4bb6-8cf1-c86e73a9a7a1",
   "metadata": {},
   "outputs": [
    {
     "data": {
      "image/png": "[encoded data removed]",
      "text/plain": [
       "<Figure size 640x480 with 1 Axes>"
      ]
     },
     "metadata": {},
     "output_type": "display_data"
    },
    {
     "data": {
      "image/png": "[encoded data removed]",
      "text/plain": [
       "<Figure size 640x480 with 1 Axes>"
      ]
     },
     "metadata": {},
     "output_type": "display_data"
    },
    {
     "data": {
      "image/png": "[encoded data removed]",
      "text/plain": [
       "<Figure size 640x480 with 1 Axes>"
      ]
     },
     "metadata": {},
     "output_type": "display_data"
    }
   ],
   "source": [
    "for plot in numerical_columns:\n",
    "    sns.boxplot(df[plot])\n",
    "    plt.show()"
   ]
  },
  {
   "cell_type": "code",
   "execution_count": 149,
   "id": "e1e49d7f-12fc-4cda-9342-6a2f611c0c2b",
   "metadata": {},
   "outputs": [
    {
     "name": "stdout",
     "output_type": "stream",
     "text": [
      "Index(['nom__Region_Australia and Oceania',\n",
      "       'nom__Region_Central America and the Caribbean', 'nom__Region_Europe',\n",
      "       'nom__Region_Middle East and North Africa', 'nom__Region_North America',\n",
      "       'nom__Region_Sub_Saharan Africa', 'nom__Sales_Channel_Online',\n",
      "       'Order_Priority', 'Unit_Cost', 'Total_Revenue', 'Total_Profit',\n",
      "       'Ship_Year', 'Ship_Month', 'Ship_Day', 'Order_Priority',\n",
      "       'Item_Type_Beverages', 'Item_Type_Cereal', 'Item_Type_Clothes',\n",
      "       'Item_Type_Cosmetics', 'Item_Type_Fruits', 'Item_Type_Household',\n",
      "       'Item_Type_Meat', 'Item_Type_Office Supplies',\n",
      "       'Item_Type_Personal Care', 'Item_Type_Snacks', 'Item_Type_Vegetables'],\n",
      "      dtype='object')\n"
     ]
    }
   ],
   "source": [
    "print(df.columns)"
   ]
  },
  {
   "cell_type": "code",
   "execution_count": 150,
   "id": "e1b0a0c6-c5db-4637-a411-3e71459da81d",
   "metadata": {},
   "outputs": [
    {
     "data": {
      "application/vnd.plotly.v1+json": {
       "config": {
        "plotlyServerURL": "https://plot.ly"
       },
       "data": [
        {
         "hovertemplate": "Total Profit=%{x}<br>Total Revenue=%{y}<br>Unit Cost=%{z}<extra></extra>",
         "legendgroup": "",
         "marker": {
          "color": "#636efa",
          "symbol": "circle"
         },
         "mode": "markers",
         "name": "",
         "scene": "scene",
         "showlegend": false,
         "type": "scatter3d",
         "x": [
          951410.5,
          248406.36,
          224598.75,
          19525.82,
          639077.5,
          285087.64,
          693911.51,
          510216.66,
          152114.2,
          584073.87,
          7828.12,
          306097.92,
          606834.72,
          1407406.6225,
          122819.06,
          122865.12,
          1208744.24,
          85033.8,
          634745.9,
          337937.6,
          714157,
          122029.78,
          122686.5,
          5270.67,
          127054.2,
          315574.05,
          13009.18,
          14031.02,
          80241.84,
          392780.1,
          1407406.6225,
          53252.5,
          369155,
          1367272.5,
          404010.78,
          160609.54,
          9119.44,
          272672.4,
          846885,
          503358.75,
          75555.9,
          1257775.58,
          187545.03,
          10795.23,
          435499.2,
          85223.58,
          1407406.6225,
          6841.38,
          575916.48,
          159832.5,
          166635.36,
          23150.46,
          359941.17,
          436446.25,
          18405.17,
          255718.08,
          727423.2,
          495007.89,
          46735.86,
          1254472.05,
          60418.38,
          455335,
          696647.5,
          449159.04,
          296448.35,
          778415.99,
          216919.36,
          403773.12,
          1046233.75,
          539196.48,
          632512.5,
          1621.93,
          89904.06,
          766835.04,
          1407406.6225,
          1152486.42,
          146875.14,
          235601.16,
          825738.04,
          1407406.6225,
          747939.49,
          579000.96,
          1128242.43,
          225246.9,
          407630.41,
          160935.32,
          138262.14,
          532885.74,
          1258.02,
          72975.6,
          119685,
          147031.74,
          255151.25,
          1375311.7,
          127722.96,
          65214.72,
          15103.47,
          93748.05,
          144521.02,
          889472.91
         ],
         "y": [
          2533654,
          576782.8,
          1158502.59,
          75591.66,
          3296425.02,
          759202.72,
          2798046.49,
          1245112.92,
          496101.1,
          1356180.1,
          19103.44,
          455479.04,
          902980.64,
          5127029.8875,
          400558.73,
          182825.44,
          3039414.4,
          257653.5,
          2559474.1,
          2492526.12,
          1901836,
          324971.44,
          339490.5,
          20404.71,
          414371.1,
          793518,
          50363.34,
          54319.26,
          243133.8,
          1583799.9,
          3786589.2,
          173676.25,
          1904138.04,
          5127029.8875,
          1117953.66,
          523807.57,
          35304.72,
          2011149.63,
          4368316.68,
          2596374.27,
          246415.95,
          3162704.8,
          435466.9,
          26344.26,
          648030.4,
          197883.4,
          3876652.4,
          22312.29,
          856973.76,
          824431.86,
          247956.32,
          89623.98,
          835759.1,
          2251232.97,
          71253.21,
          380512.96,
          1082418.4,
          1244708.4,
          188452.14,
          3154398,
          140287.4,
          1212580,
          3593376.78,
          668356.48,
          745426,
          1957344.4,
          707454.88,
          600821.44,
          5127029.8875,
          802333.76,
          3262562.1,
          6279.09,
          272410.45,
          1780539.2,
          4324782.4,
          4647149.58,
          445033.55,
          574951.92,
          2198981.92,
          4220728.8,
          3015902.51,
          861563.52,
          2836990.8,
          623289.3,
          994765.42,
          524870.06,
          418936.05,
          1419101.52,
          4870.26,
          221117,
          617347.08,
          445508.05,
          1316095.41,
          3458252,
          387002.2,
          97040.64,
          58471.11,
          228779.1,
          471336.91,
          3586605.09
         ],
         "z": [
          159.42,
          117.11,
          524.96,
          6.92,
          524.96,
          159.42,
          502.54,
          90.93,
          56.67,
          117.11,
          90.93,
          35.84,
          35.84,
          502.54,
          56.67,
          35.84,
          263.33,
          31.79,
          502.54,
          364.69,
          159.42,
          159.42,
          97.44,
          6.92,
          56.67,
          263.33,
          6.92,
          6.92,
          31.79,
          502.54,
          263.33,
          56.67,
          524.96,
          502.54,
          97.44,
          56.67,
          6.92,
          364.69,
          524.96,
          524.96,
          56.67,
          263.33,
          117.11,
          90.93,
          35.84,
          117.11,
          263.33,
          56.67,
          35.84,
          524.96,
          35.84,
          6.92,
          117.11,
          524.96,
          6.92,
          35.84,
          35.84,
          263.33,
          502.54,
          263.33,
          117.11,
          159.42,
          524.96,
          35.84,
          263.33,
          263.33,
          56.67,
          35.84,
          524.96,
          35.84,
          524.96,
          6.92,
          31.79,
          117.11,
          263.33,
          502.54,
          31.79,
          90.93,
          159.42,
          263.33,
          502.54,
          35.84,
          263.33,
          97.44,
          90.93,
          56.67,
          31.79,
          159.42,
          6.92,
          31.79,
          524.96,
          31.79,
          524.96,
          263.33,
          31.79,
          35.84,
          6.92,
          90.93,
          56.67,
          502.54
         ]
        }
       ],
       "layout": {
        "autosize": true,
        "legend": {
         "tracegroupgap": 0
        },
        "scene": {
         "aspectmode": "auto",
         "aspectratio": {
          "x": 1,
          "y": 1,
          "z": 1
         },
         "domain": {
          "x": [
           0,
           1
          ],
          "y": [
           0,
           1
          ]
         },
         "xaxis": {
          "title": {
           "text": "Total Profit"
          },
          "type": "linear"
         },
         "yaxis": {
          "title": {
           "text": "Total Revenue"
          },
          "type": "linear"
         },
         "zaxis": {
          "title": {
           "text": "Unit Cost"
          },
          "type": "linear"
         }
        },
        "template": {
         "data": {
          "bar": [
           {
            "error_x": {
             "color": "#2a3f5f"
            },
            "error_y": {
             "color": "#2a3f5f"
            },
            "marker": {
             "line": {
              "color": "#E5ECF6",
              "width": 0.5
             },
             "pattern": {
              "fillmode": "overlay",
              "size": 10,
              "solidity": 0.2
             }
            },
            "type": "bar"
           }
          ],
          "barpolar": [
           {
            "marker": {
             "line": {
              "color": "#E5ECF6",
              "width": 0.5
             },
             "pattern": {
              "fillmode": "overlay",
              "size": 10,
              "solidity": 0.2
             }
            },
            "type": "barpolar"
           }
          ],
          "carpet": [
           {
            "aaxis": {
             "endlinecolor": "#2a3f5f",
             "gridcolor": "white",
             "linecolor": "white",
             "minorgridcolor": "white",
             "startlinecolor": "#2a3f5f"
            },
            "baxis": {
             "endlinecolor": "#2a3f5f",
             "gridcolor": "white",
             "linecolor": "white",
             "minorgridcolor": "white",
             "startlinecolor": "#2a3f5f"
            },
            "type": "carpet"
           }
          ],
          "choropleth": [
           {
            "colorbar": {
             "outlinewidth": 0,
             "ticks": ""
            },
            "type": "choropleth"
           }
          ],
          "contour": [
           {
            "colorbar": {
             "outlinewidth": 0,
             "ticks": ""
            },
            "colorscale": [
             [
              0,
              "#0d0887"
             ],
             [
              0.1111111111111111,
              "#46039f"
             ],
             [
              0.2222222222222222,
              "#7201a8"
             ],
             [
              0.3333333333333333,
              "#9c179e"
             ],
             [
              0.4444444444444444,
              "#bd3786"
             ],
             [
              0.5555555555555556,
              "#d8576b"
             ],
             [
              0.6666666666666666,
              "#ed7953"
             ],
             [
              0.7777777777777778,
              "#fb9f3a"
             ],
             [
              0.8888888888888888,
              "#fdca26"
             ],
             [
              1,
              "#f0f921"
             ]
            ],
            "type": "contour"
           }
          ],
          "contourcarpet": [
           {
            "colorbar": {
             "outlinewidth": 0,
             "ticks": ""
            },
            "type": "contourcarpet"
           }
          ],
          "heatmap": [
           {
            "colorbar": {
             "outlinewidth": 0,
             "ticks": ""
            },
            "colorscale": [
             [
              0,
              "#0d0887"
             ],
             [
              0.1111111111111111,
              "#46039f"
             ],
             [
              0.2222222222222222,
              "#7201a8"
             ],
             [
              0.3333333333333333,
              "#9c179e"
             ],
             [
              0.4444444444444444,
              "#bd3786"
             ],
             [
              0.5555555555555556,
              "#d8576b"
             ],
             [
              0.6666666666666666,
              "#ed7953"
             ],
             [
              0.7777777777777778,
              "#fb9f3a"
             ],
             [
              0.8888888888888888,
              "#fdca26"
             ],
             [
              1,
              "#f0f921"
             ]
            ],
            "type": "heatmap"
           }
          ],
          "heatmapgl": [
           {
            "colorbar": {
             "outlinewidth": 0,
             "ticks": ""
            },
            "colorscale": [
             [
              0,
              "#0d0887"
             ],
             [
              0.1111111111111111,
              "#46039f"
             ],
             [
              0.2222222222222222,
              "#7201a8"
             ],
             [
              0.3333333333333333,
              "#9c179e"
             ],
             [
              0.4444444444444444,
              "#bd3786"
             ],
             [
              0.5555555555555556,
              "#d8576b"
             ],
             [
              0.6666666666666666,
              "#ed7953"
             ],
             [
              0.7777777777777778,
              "#fb9f3a"
             ],
             [
              0.8888888888888888,
              "#fdca26"
             ],
             [
              1,
              "#f0f921"
             ]
            ],
            "type": "heatmapgl"
           }
          ],
          "histogram": [
           {
            "marker": {
             "pattern": {
              "fillmode": "overlay",
              "size": 10,
              "solidity": 0.2
             }
            },
            "type": "histogram"
           }
          ],
          "histogram2d": [
           {
            "colorbar": {
             "outlinewidth": 0,
             "ticks": ""
            },
            "colorscale": [
             [
              0,
              "#0d0887"
             ],
             [
              0.1111111111111111,
              "#46039f"
             ],
             [
              0.2222222222222222,
              "#7201a8"
             ],
             [
              0.3333333333333333,
              "#9c179e"
             ],
             [
              0.4444444444444444,
              "#bd3786"
             ],
             [
              0.5555555555555556,
              "#d8576b"
             ],
             [
              0.6666666666666666,
              "#ed7953"
             ],
             [
              0.7777777777777778,
              "#fb9f3a"
             ],
             [
              0.8888888888888888,
              "#fdca26"
             ],
             [
              1,
              "#f0f921"
             ]
            ],
            "type": "histogram2d"
           }
          ],
          "histogram2dcontour": [
           {
            "colorbar": {
             "outlinewidth": 0,
             "ticks": ""
            },
            "colorscale": [
             [
              0,
              "#0d0887"
             ],
             [
              0.1111111111111111,
              "#46039f"
             ],
             [
              0.2222222222222222,
              "#7201a8"
             ],
             [
              0.3333333333333333,
              "#9c179e"
             ],
             [
              0.4444444444444444,
              "#bd3786"
             ],
             [
              0.5555555555555556,
              "#d8576b"
             ],
             [
              0.6666666666666666,
              "#ed7953"
             ],
             [
              0.7777777777777778,
              "#fb9f3a"
             ],
             [
              0.8888888888888888,
              "#fdca26"
             ],
             [
              1,
              "#f0f921"
             ]
            ],
            "type": "histogram2dcontour"
           }
          ],
          "mesh3d": [
           {
            "colorbar": {
             "outlinewidth": 0,
             "ticks": ""
            },
            "type": "mesh3d"
           }
          ],
          "parcoords": [
           {
            "line": {
             "colorbar": {
              "outlinewidth": 0,
              "ticks": ""
             }
            },
            "type": "parcoords"
           }
          ],
          "pie": [
           {
            "automargin": true,
            "type": "pie"
           }
          ],
          "scatter": [
           {
            "fillpattern": {
             "fillmode": "overlay",
             "size": 10,
             "solidity": 0.2
            },
            "type": "scatter"
           }
          ],
          "scatter3d": [
           {
            "line": {
             "colorbar": {
              "outlinewidth": 0,
              "ticks": ""
             }
            },
            "marker": {
             "colorbar": {
              "outlinewidth": 0,
              "ticks": ""
             }
            },
            "type": "scatter3d"
           }
          ],
          "scattercarpet": [
           {
            "marker": {
             "colorbar": {
              "outlinewidth": 0,
              "ticks": ""
             }
            },
            "type": "scattercarpet"
           }
          ],
          "scattergeo": [
           {
            "marker": {
             "colorbar": {
              "outlinewidth": 0,
              "ticks": ""
             }
            },
            "type": "scattergeo"
           }
          ],
          "scattergl": [
           {
            "marker": {
             "colorbar": {
              "outlinewidth": 0,
              "ticks": ""
             }
            },
            "type": "scattergl"
           }
          ],
          "scattermapbox": [
           {
            "marker": {
             "colorbar": {
              "outlinewidth": 0,
              "ticks": ""
             }
            },
            "type": "scattermapbox"
           }
          ],
          "scatterpolar": [
           {
            "marker": {
             "colorbar": {
              "outlinewidth": 0,
              "ticks": ""
             }
            },
            "type": "scatterpolar"
           }
          ],
          "scatterpolargl": [
           {
            "marker": {
             "colorbar": {
              "outlinewidth": 0,
              "ticks": ""
             }
            },
            "type": "scatterpolargl"
           }
          ],
          "scatterternary": [
           {
            "marker": {
             "colorbar": {
              "outlinewidth": 0,
              "ticks": ""
             }
            },
            "type": "scatterternary"
           }
          ],
          "surface": [
           {
            "colorbar": {
             "outlinewidth": 0,
             "ticks": ""
            },
            "colorscale": [
             [
              0,
              "#0d0887"
             ],
             [
              0.1111111111111111,
              "#46039f"
             ],
             [
              0.2222222222222222,
              "#7201a8"
             ],
             [
              0.3333333333333333,
              "#9c179e"
             ],
             [
              0.4444444444444444,
              "#bd3786"
             ],
             [
              0.5555555555555556,
              "#d8576b"
             ],
             [
              0.6666666666666666,
              "#ed7953"
             ],
             [
              0.7777777777777778,
              "#fb9f3a"
             ],
             [
              0.8888888888888888,
              "#fdca26"
             ],
             [
              1,
              "#f0f921"
             ]
            ],
            "type": "surface"
           }
          ],
          "table": [
           {
            "cells": {
             "fill": {
              "color": "#EBF0F8"
             },
             "line": {
              "color": "white"
             }
            },
            "header": {
             "fill": {
              "color": "#C8D4E3"
             },
             "line": {
              "color": "white"
             }
            },
            "type": "table"
           }
          ]
         },
         "layout": {
          "annotationdefaults": {
           "arrowcolor": "#2a3f5f",
           "arrowhead": 0,
           "arrowwidth": 1
          },
          "autotypenumbers": "strict",
          "coloraxis": {
           "colorbar": {
            "outlinewidth": 0,
            "ticks": ""
           }
          },
          "colorscale": {
           "diverging": [
            [
             0,
             "#8e0152"
            ],
            [
             0.1,
             "#c51b7d"
            ],
            [
             0.2,
             "#de77ae"
            ],
            [
             0.3,
             "#f1b6da"
            ],
            [
             0.4,
             "#fde0ef"
            ],
            [
             0.5,
             "#f7f7f7"
            ],
            [
             0.6,
             "#e6f5d0"
            ],
            [
             0.7,
             "#b8e186"
            ],
            [
             0.8,
             "#7fbc41"
            ],
            [
             0.9,
             "#4d9221"
            ],
            [
             1,
             "#276419"
            ]
           ],
           "sequential": [
            [
             0,
             "#0d0887"
            ],
            [
             0.1111111111111111,
             "#46039f"
            ],
            [
             0.2222222222222222,
             "#7201a8"
            ],
            [
             0.3333333333333333,
             "#9c179e"
            ],
            [
             0.4444444444444444,
             "#bd3786"
            ],
            [
             0.5555555555555556,
             "#d8576b"
            ],
            [
             0.6666666666666666,
             "#ed7953"
            ],
            [
             0.7777777777777778,
             "#fb9f3a"
            ],
            [
             0.8888888888888888,
             "#fdca26"
            ],
            [
             1,
             "#f0f921"
            ]
           ],
           "sequentialminus": [
            [
             0,
             "#0d0887"
            ],
            [
             0.1111111111111111,
             "#46039f"
            ],
            [
             0.2222222222222222,
             "#7201a8"
            ],
            [
             0.3333333333333333,
             "#9c179e"
            ],
            [
             0.4444444444444444,
             "#bd3786"
            ],
            [
             0.5555555555555556,
             "#d8576b"
            ],
            [
             0.6666666666666666,
             "#ed7953"
            ],
            [
             0.7777777777777778,
             "#fb9f3a"
            ],
            [
             0.8888888888888888,
             "#fdca26"
            ],
            [
             1,
             "#f0f921"
            ]
           ]
          },
          "colorway": [
           "#636efa",
           "#EF553B",
           "#00cc96",
           "#ab63fa",
           "#FFA15A",
           "#19d3f3",
           "#FF6692",
           "#B6E880",
           "#FF97FF",
           "#FECB52"
          ],
          "font": {
           "color": "#2a3f5f"
          },
          "geo": {
           "bgcolor": "white",
           "lakecolor": "white",
           "landcolor": "#E5ECF6",
           "showlakes": true,
           "showland": true,
           "subunitcolor": "white"
          },
          "hoverlabel": {
           "align": "left"
          },
          "hovermode": "closest",
          "mapbox": {
           "style": "light"
          },
          "paper_bgcolor": "white",
          "plot_bgcolor": "#E5ECF6",
          "polar": {
           "angularaxis": {
            "gridcolor": "white",
            "linecolor": "white",
            "ticks": ""
           },
           "bgcolor": "#E5ECF6",
           "radialaxis": {
            "gridcolor": "white",
            "linecolor": "white",
            "ticks": ""
           }
          },
          "scene": {
           "xaxis": {
            "backgroundcolor": "#E5ECF6",
            "gridcolor": "white",
            "gridwidth": 2,
            "linecolor": "white",
            "showbackground": true,
            "ticks": "",
            "zerolinecolor": "white"
           },
           "yaxis": {
            "backgroundcolor": "#E5ECF6",
            "gridcolor": "white",
            "gridwidth": 2,
            "linecolor": "white",
            "showbackground": true,
            "ticks": "",
            "zerolinecolor": "white"
           },
           "zaxis": {
            "backgroundcolor": "#E5ECF6",
            "gridcolor": "white",
            "gridwidth": 2,
            "linecolor": "white",
            "showbackground": true,
            "ticks": "",
            "zerolinecolor": "white"
           }
          },
          "shapedefaults": {
           "line": {
            "color": "#2a3f5f"
           }
          },
          "ternary": {
           "aaxis": {
            "gridcolor": "white",
            "linecolor": "white",
            "ticks": ""
           },
           "baxis": {
            "gridcolor": "white",
            "linecolor": "white",
            "ticks": ""
           },
           "bgcolor": "#E5ECF6",
           "caxis": {
            "gridcolor": "white",
            "linecolor": "white",
            "ticks": ""
           }
          },
          "title": {
           "x": 0.05
          },
          "xaxis": {
           "automargin": true,
           "gridcolor": "white",
           "linecolor": "white",
           "ticks": "",
           "title": {
            "standoff": 15
           },
           "zerolinecolor": "white",
           "zerolinewidth": 2
          },
          "yaxis": {
           "automargin": true,
           "gridcolor": "white",
           "linecolor": "white",
           "ticks": "",
           "title": {
            "standoff": 15
           },
           "zerolinecolor": "white",
           "zerolinewidth": 2
          }
         }
        },
        "title": {
         "text": "3D Scatter Plot: Total Profit, Total Revenue, and Unit Cost"
        }
       }
      },
      "image/png": "[encoded data removed]",
      "text/html": [
       "<div>                            <div id=\"3484146e-5574-4c19-aa25-83a97d59f029\" class=\"plotly-graph-div\" style=\"height:525px; width:100%;\"></div>            <script type=\"text/javascript\">                require([\"plotly\"], function(Plotly) {                    window.PLOTLYENV=window.PLOTLYENV || {};                                    if (document.getElementById(\"3484146e-5574-4c19-aa25-83a97d59f029\")) {                    Plotly.newPlot(                        \"3484146e-5574-4c19-aa25-83a97d59f029\",                        [{\"hovertemplate\":\"Total Profit=%{x}\\u003cbr\\u003eTotal Revenue=%{y}\\u003cbr\\u003eUnit Cost=%{z}\\u003cextra\\u003e\\u003c\\u002fextra\\u003e\",\"legendgroup\":\"\",\"marker\":{\"color\":\"#636efa\",\"symbol\":\"circle\"},\"mode\":\"markers\",\"name\":\"\",\"scene\":\"scene\",\"showlegend\":false,\"x\":[951410.5,248406.36,224598.75,19525.82,639077.5,285087.64,693911.51,510216.66,152114.2,584073.87,7828.12,306097.92,606834.72,1407406.6225,122819.06,122865.12,1208744.24,85033.8,634745.9,337937.6,714157.0,122029.78,122686.5,5270.67,127054.2,315574.05,13009.18,14031.02,80241.84,392780.1,1407406.6225,53252.5,369155.0,1367272.5,404010.78,160609.54,9119.44,272672.4,846885.0,503358.75,75555.9,1257775.58,187545.03,10795.23,435499.2,85223.58,1407406.6225,6841.38,575916.48,159832.5,166635.36,23150.46,359941.17,436446.25,18405.17,255718.08,727423.2,495007.89,46735.86,1254472.05,60418.38,455335.0,696647.5,449159.04,296448.35,778415.99,216919.36,403773.12,1046233.75,539196.48,632512.5,1621.93,89904.06,766835.04,1407406.6225,1152486.42,146875.14,235601.16,825738.04,1407406.6225,747939.49,579000.96,1128242.43,225246.9,407630.41,160935.32,138262.14,532885.74,1258.02,72975.6,119685.0,147031.74,255151.25,1375311.7,127722.96,65214.72,15103.47,93748.05,144521.02,889472.91],\"y\":[2533654.0,576782.8,1158502.59,75591.66,3296425.02,759202.72,2798046.49,1245112.92,496101.1,1356180.1,19103.44,455479.04,902980.64,5127029.8875,400558.73,182825.44,3039414.4,257653.5,2559474.1,2492526.12,1901836.0,324971.44,339490.5,20404.71,414371.1,793518.0,50363.34,54319.26,243133.8,1583799.9,3786589.2,173676.25,1904138.04,5127029.8875,1117953.66,523807.57,35304.72,2011149.63,4368316.68,2596374.27,246415.95,3162704.8,435466.9,26344.26,648030.4,197883.4,3876652.4,22312.29,856973.76,824431.86,247956.32,89623.98,835759.1,2251232.97,71253.21,380512.96,1082418.4,1244708.4,188452.14,3154398.0,140287.4,1212580.0,3593376.78,668356.48,745426.0,1957344.4,707454.88,600821.44,5127029.8875,802333.76,3262562.1,6279.09,272410.45,1780539.2,4324782.4,4647149.58,445033.55,574951.92,2198981.92,4220728.8,3015902.51,861563.52,2836990.8,623289.3,994765.42,524870.06,418936.05,1419101.52,4870.26,221117.0,617347.08,445508.05,1316095.41,3458252.0,387002.2,97040.64,58471.11,228779.1,471336.91,3586605.09],\"z\":[159.42,117.11,524.96,6.92,524.96,159.42,502.54,90.93,56.67,117.11,90.93,35.84,35.84,502.54,56.67,35.84,263.33,31.79,502.54,364.69,159.42,159.42,97.44,6.92,56.67,263.33,6.92,6.92,31.79,502.54,263.33,56.67,524.96,502.54,97.44,56.67,6.92,364.69,524.96,524.96,56.67,263.33,117.11,90.93,35.84,117.11,263.33,56.67,35.84,524.96,35.84,6.92,117.11,524.96,6.92,35.84,35.84,263.33,502.54,263.33,117.11,159.42,524.96,35.84,263.33,263.33,56.67,35.84,524.96,35.84,524.96,6.92,31.79,117.11,263.33,502.54,31.79,90.93,159.42,263.33,502.54,35.84,263.33,97.44,90.93,56.67,31.79,159.42,6.92,31.79,524.96,31.79,524.96,263.33,31.79,35.84,6.92,90.93,56.67,502.54],\"type\":\"scatter3d\"}],                        {\"template\":{\"data\":{\"histogram2dcontour\":[{\"type\":\"histogram2dcontour\",\"colorbar\":{\"outlinewidth\":0,\"ticks\":\"\"},\"colorscale\":[[0.0,\"#0d0887\"],[0.1111111111111111,\"#46039f\"],[0.2222222222222222,\"#7201a8\"],[0.3333333333333333,\"#9c179e\"],[0.4444444444444444,\"#bd3786\"],[0.5555555555555556,\"#d8576b\"],[0.6666666666666666,\"#ed7953\"],[0.7777777777777778,\"#fb9f3a\"],[0.8888888888888888,\"#fdca26\"],[1.0,\"#f0f921\"]]}],\"choropleth\":[{\"type\":\"choropleth\",\"colorbar\":{\"outlinewidth\":0,\"ticks\":\"\"}}],\"histogram2d\":[{\"type\":\"histogram2d\",\"colorbar\":{\"outlinewidth\":0,\"ticks\":\"\"},\"colorscale\":[[0.0,\"#0d0887\"],[0.1111111111111111,\"#46039f\"],[0.2222222222222222,\"#7201a8\"],[0.3333333333333333,\"#9c179e\"],[0.4444444444444444,\"#bd3786\"],[0.5555555555555556,\"#d8576b\"],[0.6666666666666666,\"#ed7953\"],[0.7777777777777778,\"#fb9f3a\"],[0.8888888888888888,\"#fdca26\"],[1.0,\"#f0f921\"]]}],\"heatmap\":[{\"type\":\"heatmap\",\"colorbar\":{\"outlinewidth\":0,\"ticks\":\"\"},\"colorscale\":[[0.0,\"#0d0887\"],[0.1111111111111111,\"#46039f\"],[0.2222222222222222,\"#7201a8\"],[0.3333333333333333,\"#9c179e\"],[0.4444444444444444,\"#bd3786\"],[0.5555555555555556,\"#d8576b\"],[0.6666666666666666,\"#ed7953\"],[0.7777777777777778,\"#fb9f3a\"],[0.8888888888888888,\"#fdca26\"],[1.0,\"#f0f921\"]]}],\"heatmapgl\":[{\"type\":\"heatmapgl\",\"colorbar\":{\"outlinewidth\":0,\"ticks\":\"\"},\"colorscale\":[[0.0,\"#0d0887\"],[0.1111111111111111,\"#46039f\"],[0.2222222222222222,\"#7201a8\"],[0.3333333333333333,\"#9c179e\"],[0.4444444444444444,\"#bd3786\"],[0.5555555555555556,\"#d8576b\"],[0.6666666666666666,\"#ed7953\"],[0.7777777777777778,\"#fb9f3a\"],[0.8888888888888888,\"#fdca26\"],[1.0,\"#f0f921\"]]}],\"contourcarpet\":[{\"type\":\"contourcarpet\",\"colorbar\":{\"outlinewidth\":0,\"ticks\":\"\"}}],\"contour\":[{\"type\":\"contour\",\"colorbar\":{\"outlinewidth\":0,\"ticks\":\"\"},\"colorscale\":[[0.0,\"#0d0887\"],[0.1111111111111111,\"#46039f\"],[0.2222222222222222,\"#7201a8\"],[0.3333333333333333,\"#9c179e\"],[0.4444444444444444,\"#bd3786\"],[0.5555555555555556,\"#d8576b\"],[0.6666666666666666,\"#ed7953\"],[0.7777777777777778,\"#fb9f3a\"],[0.8888888888888888,\"#fdca26\"],[1.0,\"#f0f921\"]]}],\"surface\":[{\"type\":\"surface\",\"colorbar\":{\"outlinewidth\":0,\"ticks\":\"\"},\"colorscale\":[[0.0,\"#0d0887\"],[0.1111111111111111,\"#46039f\"],[0.2222222222222222,\"#7201a8\"],[0.3333333333333333,\"#9c179e\"],[0.4444444444444444,\"#bd3786\"],[0.5555555555555556,\"#d8576b\"],[0.6666666666666666,\"#ed7953\"],[0.7777777777777778,\"#fb9f3a\"],[0.8888888888888888,\"#fdca26\"],[1.0,\"#f0f921\"]]}],\"mesh3d\":[{\"type\":\"mesh3d\",\"colorbar\":{\"outlinewidth\":0,\"ticks\":\"\"}}],\"scatter\":[{\"fillpattern\":{\"fillmode\":\"overlay\",\"size\":10,\"solidity\":0.2},\"type\":\"scatter\"}],\"parcoords\":[{\"type\":\"parcoords\",\"line\":{\"colorbar\":{\"outlinewidth\":0,\"ticks\":\"\"}}}],\"scatterpolargl\":[{\"type\":\"scatterpolargl\",\"marker\":{\"colorbar\":{\"outlinewidth\":0,\"ticks\":\"\"}}}],\"bar\":[{\"error_x\":{\"color\":\"#2a3f5f\"},\"error_y\":{\"color\":\"#2a3f5f\"},\"marker\":{\"line\":{\"color\":\"#E5ECF6\",\"width\":0.5},\"pattern\":{\"fillmode\":\"overlay\",\"size\":10,\"solidity\":0.2}},\"type\":\"bar\"}],\"scattergeo\":[{\"type\":\"scattergeo\",\"marker\":{\"colorbar\":{\"outlinewidth\":0,\"ticks\":\"\"}}}],\"scatterpolar\":[{\"type\":\"scatterpolar\",\"marker\":{\"colorbar\":{\"outlinewidth\":0,\"ticks\":\"\"}}}],\"histogram\":[{\"marker\":{\"pattern\":{\"fillmode\":\"overlay\",\"size\":10,\"solidity\":0.2}},\"type\":\"histogram\"}],\"scattergl\":[{\"type\":\"scattergl\",\"marker\":{\"colorbar\":{\"outlinewidth\":0,\"ticks\":\"\"}}}],\"scatter3d\":[{\"type\":\"scatter3d\",\"line\":{\"colorbar\":{\"outlinewidth\":0,\"ticks\":\"\"}},\"marker\":{\"colorbar\":{\"outlinewidth\":0,\"ticks\":\"\"}}}],\"scattermapbox\":[{\"type\":\"scattermapbox\",\"marker\":{\"colorbar\":{\"outlinewidth\":0,\"ticks\":\"\"}}}],\"scatterternary\":[{\"type\":\"scatterternary\",\"marker\":{\"colorbar\":{\"outlinewidth\":0,\"ticks\":\"\"}}}],\"scattercarpet\":[{\"type\":\"scattercarpet\",\"marker\":{\"colorbar\":{\"outlinewidth\":0,\"ticks\":\"\"}}}],\"carpet\":[{\"aaxis\":{\"endlinecolor\":\"#2a3f5f\",\"gridcolor\":\"white\",\"linecolor\":\"white\",\"minorgridcolor\":\"white\",\"startlinecolor\":\"#2a3f5f\"},\"baxis\":{\"endlinecolor\":\"#2a3f5f\",\"gridcolor\":\"white\",\"linecolor\":\"white\",\"minorgridcolor\":\"white\",\"startlinecolor\":\"#2a3f5f\"},\"type\":\"carpet\"}],\"table\":[{\"cells\":{\"fill\":{\"color\":\"#EBF0F8\"},\"line\":{\"color\":\"white\"}},\"header\":{\"fill\":{\"color\":\"#C8D4E3\"},\"line\":{\"color\":\"white\"}},\"type\":\"table\"}],\"barpolar\":[{\"marker\":{\"line\":{\"color\":\"#E5ECF6\",\"width\":0.5},\"pattern\":{\"fillmode\":\"overlay\",\"size\":10,\"solidity\":0.2}},\"type\":\"barpolar\"}],\"pie\":[{\"automargin\":true,\"type\":\"pie\"}]},\"layout\":{\"autotypenumbers\":\"strict\",\"colorway\":[\"#636efa\",\"#EF553B\",\"#00cc96\",\"#ab63fa\",\"#FFA15A\",\"#19d3f3\",\"#FF6692\",\"#B6E880\",\"#FF97FF\",\"#FECB52\"],\"font\":{\"color\":\"#2a3f5f\"},\"hovermode\":\"closest\",\"hoverlabel\":{\"align\":\"left\"},\"paper_bgcolor\":\"white\",\"plot_bgcolor\":\"#E5ECF6\",\"polar\":{\"bgcolor\":\"#E5ECF6\",\"angularaxis\":{\"gridcolor\":\"white\",\"linecolor\":\"white\",\"ticks\":\"\"},\"radialaxis\":{\"gridcolor\":\"white\",\"linecolor\":\"white\",\"ticks\":\"\"}},\"ternary\":{\"bgcolor\":\"#E5ECF6\",\"aaxis\":{\"gridcolor\":\"white\",\"linecolor\":\"white\",\"ticks\":\"\"},\"baxis\":{\"gridcolor\":\"white\",\"linecolor\":\"white\",\"ticks\":\"\"},\"caxis\":{\"gridcolor\":\"white\",\"linecolor\":\"white\",\"ticks\":\"\"}},\"coloraxis\":{\"colorbar\":{\"outlinewidth\":0,\"ticks\":\"\"}},\"colorscale\":{\"sequential\":[[0.0,\"#0d0887\"],[0.1111111111111111,\"#46039f\"],[0.2222222222222222,\"#7201a8\"],[0.3333333333333333,\"#9c179e\"],[0.4444444444444444,\"#bd3786\"],[0.5555555555555556,\"#d8576b\"],[0.6666666666666666,\"#ed7953\"],[0.7777777777777778,\"#fb9f3a\"],[0.8888888888888888,\"#fdca26\"],[1.0,\"#f0f921\"]],\"sequentialminus\":[[0.0,\"#0d0887\"],[0.1111111111111111,\"#46039f\"],[0.2222222222222222,\"#7201a8\"],[0.3333333333333333,\"#9c179e\"],[0.4444444444444444,\"#bd3786\"],[0.5555555555555556,\"#d8576b\"],[0.6666666666666666,\"#ed7953\"],[0.7777777777777778,\"#fb9f3a\"],[0.8888888888888888,\"#fdca26\"],[1.0,\"#f0f921\"]],\"diverging\":[[0,\"#8e0152\"],[0.1,\"#c51b7d\"],[0.2,\"#de77ae\"],[0.3,\"#f1b6da\"],[0.4,\"#fde0ef\"],[0.5,\"#f7f7f7\"],[0.6,\"#e6f5d0\"],[0.7,\"#b8e186\"],[0.8,\"#7fbc41\"],[0.9,\"#4d9221\"],[1,\"#276419\"]]},\"xaxis\":{\"gridcolor\":\"white\",\"linecolor\":\"white\",\"ticks\":\"\",\"title\":{\"standoff\":15},\"zerolinecolor\":\"white\",\"automargin\":true,\"zerolinewidth\":2},\"yaxis\":{\"gridcolor\":\"white\",\"linecolor\":\"white\",\"ticks\":\"\",\"title\":{\"standoff\":15},\"zerolinecolor\":\"white\",\"automargin\":true,\"zerolinewidth\":2},\"scene\":{\"xaxis\":{\"backgroundcolor\":\"#E5ECF6\",\"gridcolor\":\"white\",\"linecolor\":\"white\",\"showbackground\":true,\"ticks\":\"\",\"zerolinecolor\":\"white\",\"gridwidth\":2},\"yaxis\":{\"backgroundcolor\":\"#E5ECF6\",\"gridcolor\":\"white\",\"linecolor\":\"white\",\"showbackground\":true,\"ticks\":\"\",\"zerolinecolor\":\"white\",\"gridwidth\":2},\"zaxis\":{\"backgroundcolor\":\"#E5ECF6\",\"gridcolor\":\"white\",\"linecolor\":\"white\",\"showbackground\":true,\"ticks\":\"\",\"zerolinecolor\":\"white\",\"gridwidth\":2}},\"shapedefaults\":{\"line\":{\"color\":\"#2a3f5f\"}},\"annotationdefaults\":{\"arrowcolor\":\"#2a3f5f\",\"arrowhead\":0,\"arrowwidth\":1},\"geo\":{\"bgcolor\":\"white\",\"landcolor\":\"#E5ECF6\",\"subunitcolor\":\"white\",\"showland\":true,\"showlakes\":true,\"lakecolor\":\"white\"},\"title\":{\"x\":0.05},\"mapbox\":{\"style\":\"light\"}}},\"scene\":{\"domain\":{\"x\":[0.0,1.0],\"y\":[0.0,1.0]},\"xaxis\":{\"title\":{\"text\":\"Total Profit\"}},\"yaxis\":{\"title\":{\"text\":\"Total Revenue\"}},\"zaxis\":{\"title\":{\"text\":\"Unit Cost\"}}},\"legend\":{\"tracegroupgap\":0},\"title\":{\"text\":\"3D Scatter Plot: Total Profit, Total Revenue, and Unit Cost\"}},                        {\"responsive\": true}                    ).then(function(){\n",
       "                            \n",
       "var gd = document.getElementById('3484146e-5574-4c19-aa25-83a97d59f029');\n",
       "var x = new MutationObserver(function (mutations, observer) {{\n",
       "        var display = window.getComputedStyle(gd).display;\n",
       "        if (!display || display === 'none') {{\n",
       "            console.log([gd, 'removed!']);\n",
       "            Plotly.purge(gd);\n",
       "            observer.disconnect();\n",
       "        }}\n",
       "}});\n",
       "\n",
       "// Listen for the removal of the full notebook cells\n",
       "var notebookContainer = gd.closest('#notebook-container');\n",
       "if (notebookContainer) {{\n",
       "    x.observe(notebookContainer, {childList: true});\n",
       "}}\n",
       "\n",
       "// Listen for the clearing of the current output cell\n",
       "var outputEl = gd.closest('.output');\n",
       "if (outputEl) {{\n",
       "    x.observe(outputEl, {childList: true});\n",
       "}}\n",
       "\n",
       "                        })                };                });            </script>        </div>"
      ]
     },
     "metadata": {},
     "output_type": "display_data"
    }
   ],
   "source": [
    "import plotly.express as px\n",
    "fig = px.scatter_3d(df, x='Total_Profit', y='Total_Revenue', z='Unit_Cost', \n",
    "                    title=\"3D Scatter Plot: Total Profit, Total Revenue, and Unit Cost\",\n",
    "                    labels={'Total_Profit': 'Total Profit', 'Total_Revenue': 'Total Revenue', 'Unit_Cost': 'Unit Cost'})\n",
    "\n",
    "# Show the plot\n",
    "fig.show()"
   ]
  },
  {
   "cell_type": "code",
   "execution_count": 151,
   "id": "d520ff3e-f173-4347-872d-1c6981685a69",
   "metadata": {},
   "outputs": [
    {
     "data": {
      "application/vnd.plotly.v1+json": {
       "config": {
        "plotlyServerURL": "https://plot.ly"
       },
       "data": [
        {
         "hovertemplate": "Total Profit=%{x}<br>Total Revenue=%{y}<br>Unit Cost=%{z}<extra></extra>",
         "legendgroup": "",
         "marker": {
          "color": "#636efa",
          "symbol": "circle"
         },
         "mode": "markers",
         "name": "",
         "scene": "scene",
         "showlegend": false,
         "type": "scatter3d",
         "x": [
          1.284334163842559,
          -0.0823539125244881,
          -0.12863753286532542,
          -0.5273133190657511,
          0.6771374737121866,
          -0.011042998193484197,
          0.783738535330958,
          0.42662319716945973,
          -0.26955245010298357,
          0.5702066592252266,
          -0.5500544470353798,
          0.02980242151788905,
          0.6144553066129631,
          2.170821778965789,
          -0.32650420366378524,
          -0.32641465987703394,
          1.7846085350645233,
          -0.3999613305370761,
          0.6687165473836567,
          0.09170093467791443,
          0.8230971510330054,
          -0.32803861790623196,
          -0.32676190936008914,
          -0.5550263045565957,
          -0.31827080216526044,
          0.04822466563312865,
          -0.5399821124329943,
          -0.537995585662391,
          -0.4092772281567229,
          0.19831850143671015,
          2.170821778965789,
          -0.46174634898866596,
          0.15238969300468713,
          2.092798302921673,
          0.2201517106202207,
          -0.2530369287538717,
          -0.5475440327343,
          -0.03517907294438852,
          1.0811294508144056,
          0.41329095160715296,
          -0.4183870156532395,
          1.8799288097734301,
          -0.20067249600088133,
          -0.5442861824867964,
          0.2813673503426804,
          -0.3995923852515861,
          2.170821778965789,
          -0.5519727370080028,
          0.5543481357643608,
          -0.2545475476000996,
          -0.2413223229987277,
          -0.5202667712756867,
          0.13447737800939705,
          0.283208480243741,
          -0.529491939226908,
          -0.0681394293185507,
          0.848887550160243,
          0.39705630924870183,
          -0.4744151423559092,
          1.8735065217611278,
          -0.44781538870630244,
          0.31992950069531056,
          0.7890574868097636,
          0.3079230125228229,
          0.011042998193484197,
          0.9480210176725238,
          -0.14356679166993552,
          0.2196896833436396,
          1.4686770400272875,
          0.4829619471080636,
          0.6643746652010594,
          -0.5621197043931365,
          -0.3904932123680887,
          0.9255068596790831,
          2.170821778965789,
          1.6752394895331504,
          -0.27973754066784356,
          -0.10724809615688503,
          1.040018315845256,
          2.170821778965789,
          0.8887726195629474,
          0.5603445756114898,
          1.6281075166594743,
          -0.1273774849846724,
          0.2271885186280091,
          -0.2524035901770621,
          -0.2964818010953133,
          0.47069343740760505,
          -0.5628271702949315,
          -0.4234032951355337,
          -0.33259703041814676,
          -0.27943309956916235,
          -0.0692413855635411,
          2.108427056947972,
          -0.31697068703656256,
          -0.4384909760674205,
          -0.5359106695941873,
          -0.3830202331923556,
          -0.28431411077785346,
          1.1639232573976683
         ],
         "y": [
          0.91664597659596,
          -0.09032544643738591,
          0.20901730271389152,
          -0.34822957188902776,
          1.3091544970637337,
          0.003544628625310631,
          1.0526976911363088,
          0.2535854517313064,
          -0.13184282696899657,
          0.310738664623857,
          -0.3772974141047141,
          -0.1527462229435226,
          0.07753021168421334,
          2.251151491264601,
          -0.18100724631293624,
          -0.293048959059811,
          1.1769013626949094,
          -0.2545437584819577,
          0.9299325448891944,
          0.8954822945662257,
          0.5915235717294147,
          -0.21990313326478783,
          -0.21243188093642482,
          -0.3766278035020078,
          -0.17389964420076703,
          0.021202666790207606,
          -0.36121162062639006,
          -0.3591759739308865,
          -0.2620153401430385,
          0.427867801133488,
          1.5613843432869157,
          -0.2977569709483311,
          0.5927081609321582,
          2.251151491264601,
          0.1881515381482013,
          -0.11758556592742636,
          -0.36896052101917953,
          0.6477744387042266,
          1.8607310495766305,
          0.948920721880645,
          -0.26032640361205533,
          1.2403444291237833,
          -0.1630441174057348,
          -0.3735714157767054,
          -0.053662687457791035,
          -0.2853003982913868,
          1.607729278337795,
          -0.37564619646157,
          0.053855882263388714,
          0.037110394184659334,
          -0.2595337563642968,
          -0.34100878738422274,
          0.04293919220766679,
          0.7713170931857269,
          -0.35046206177914374,
          -0.1913224461803057,
          0.16986571978158627,
          0.25337729287034233,
          -0.29015355842946716,
          1.2360698962792849,
          -0.3149382845666964,
          0.23684458460227414,
          1.4619606379786065,
          -0.043203245005835285,
          -0.003544628625310631,
          0.620087215845749,
          -0.023083897607638102,
          -0.0779555860558819,
          2.251151491264601,
          0.02573910147856137,
          1.2917292353804588,
          -0.3838965985420842,
          -0.24695009215321212,
          0.5291063767165843,
          1.8383290765278515,
          2.004213544541815,
          -0.15812128796036204,
          -0.09126758500992113,
          0.7444296239575596,
          1.7847849282651846,
          1.1648025585776514,
          0.056217691849314216,
          1.0727377465368644,
          -0.06639402137205698,
          0.12476104145441111,
          -0.11703882730341332,
          -0.1715506014034812,
          0.34311691815259143,
          -0.3846215576246809,
          -0.2733447973023245,
          -0.06945178303229159,
          -0.1578771186250326,
          0.2901117897783635,
          1.3924278082227863,
          -0.18798319767115246,
          -0.33719230489199,
          -0.3570395051113132,
          -0.2694020157128036,
          -0.144586042590223,
          1.458476045678592
         ],
         "z": [
          0.22921886676337416,
          0.04323266956789307,
          1.83605872785617,
          -0.44114026990197375,
          1.83605872785617,
          0.22921886676337416,
          1.7375049452723197,
          -0.07184931205767286,
          -0.2224493384324586,
          0.04323266956789307,
          -0.07184931205767286,
          -0.3140138028045189,
          -0.3140138028045189,
          1.7375049452723197,
          -0.2224493384324586,
          -0.3140138028045189,
          0.685986197195481,
          -0.3318167831553036,
          1.7375049452723197,
          1.1315442437030199,
          0.22921886676337416,
          0.22921886676337416,
          -0.04323266956789313,
          -0.44114026990197375,
          -0.2224493384324586,
          0.685986197195481,
          -0.44114026990197375,
          -0.44114026990197375,
          -0.3318167831553036,
          1.7375049452723197,
          0.685986197195481,
          -0.2224493384324586,
          1.83605872785617,
          1.7375049452723197,
          -0.04323266956789313,
          -0.2224493384324586,
          -0.44114026990197375,
          1.1315442437030199,
          1.83605872785617,
          1.83605872785617,
          -0.2224493384324586,
          0.685986197195481,
          0.04323266956789307,
          -0.07184931205767286,
          -0.3140138028045189,
          0.04323266956789307,
          0.685986197195481,
          -0.2224493384324586,
          -0.3140138028045189,
          1.83605872785617,
          -0.3140138028045189,
          -0.44114026990197375,
          0.04323266956789307,
          1.83605872785617,
          -0.44114026990197375,
          -0.3140138028045189,
          -0.3140138028045189,
          0.685986197195481,
          1.7375049452723197,
          0.685986197195481,
          0.04323266956789307,
          0.22921886676337416,
          1.83605872785617,
          -0.3140138028045189,
          0.685986197195481,
          0.685986197195481,
          -0.2224493384324586,
          -0.3140138028045189,
          1.83605872785617,
          -0.3140138028045189,
          1.83605872785617,
          -0.44114026990197375,
          -0.3318167831553036,
          0.04323266956789307,
          0.685986197195481,
          1.7375049452723197,
          -0.3318167831553036,
          -0.07184931205767286,
          0.22921886676337416,
          0.685986197195481,
          1.7375049452723197,
          -0.3140138028045189,
          0.685986197195481,
          -0.04323266956789313,
          -0.07184931205767286,
          -0.2224493384324586,
          -0.3318167831553036,
          0.22921886676337416,
          -0.44114026990197375,
          -0.3318167831553036,
          1.83605872785617,
          -0.3318167831553036,
          1.83605872785617,
          0.685986197195481,
          -0.3318167831553036,
          -0.3140138028045189,
          -0.44114026990197375,
          -0.07184931205767286,
          -0.2224493384324586,
          1.7375049452723197
         ]
        }
       ],
       "layout": {
        "autosize": true,
        "legend": {
         "tracegroupgap": 0
        },
        "scene": {
         "aspectmode": "auto",
         "aspectratio": {
          "x": 1.0757850284307642,
          "y": 1.0372674900715504,
          "z": 0.8961562490341939
         },
         "camera": {
          "center": {
           "x": 0,
           "y": 0,
           "z": 0
          },
          "eye": {
           "x": -0.8644560790249651,
           "y": 1.4391494028276415,
           "z": 1.3671374048637641
          },
          "projection": {
           "type": "perspective"
          },
          "up": {
           "x": 0,
           "y": 0,
           "z": 1
          }
         },
         "domain": {
          "x": [
           0,
           1
          ],
          "y": [
           0,
           1
          ]
         },
         "xaxis": {
          "title": {
           "text": "Total Profit"
          },
          "type": "linear"
         },
         "yaxis": {
          "title": {
           "text": "Total Revenue"
          },
          "type": "linear"
         },
         "zaxis": {
          "title": {
           "text": "Unit Cost"
          },
          "type": "linear"
         }
        },
        "template": {
         "data": {
          "bar": [
           {
            "error_x": {
             "color": "#2a3f5f"
            },
            "error_y": {
             "color": "#2a3f5f"
            },
            "marker": {
             "line": {
              "color": "#E5ECF6",
              "width": 0.5
             },
             "pattern": {
              "fillmode": "overlay",
              "size": 10,
              "solidity": 0.2
             }
            },
            "type": "bar"
           }
          ],
          "barpolar": [
           {
            "marker": {
             "line": {
              "color": "#E5ECF6",
              "width": 0.5
             },
             "pattern": {
              "fillmode": "overlay",
              "size": 10,
              "solidity": 0.2
             }
            },
            "type": "barpolar"
           }
          ],
          "carpet": [
           {
            "aaxis": {
             "endlinecolor": "#2a3f5f",
             "gridcolor": "white",
             "linecolor": "white",
             "minorgridcolor": "white",
             "startlinecolor": "#2a3f5f"
            },
            "baxis": {
             "endlinecolor": "#2a3f5f",
             "gridcolor": "white",
             "linecolor": "white",
             "minorgridcolor": "white",
             "startlinecolor": "#2a3f5f"
            },
            "type": "carpet"
           }
          ],
          "choropleth": [
           {
            "colorbar": {
             "outlinewidth": 0,
             "ticks": ""
            },
            "type": "choropleth"
           }
          ],
          "contour": [
           {
            "colorbar": {
             "outlinewidth": 0,
             "ticks": ""
            },
            "colorscale": [
             [
              0,
              "#0d0887"
             ],
             [
              0.1111111111111111,
              "#46039f"
             ],
             [
              0.2222222222222222,
              "#7201a8"
             ],
             [
              0.3333333333333333,
              "#9c179e"
             ],
             [
              0.4444444444444444,
              "#bd3786"
             ],
             [
              0.5555555555555556,
              "#d8576b"
             ],
             [
              0.6666666666666666,
              "#ed7953"
             ],
             [
              0.7777777777777778,
              "#fb9f3a"
             ],
             [
              0.8888888888888888,
              "#fdca26"
             ],
             [
              1,
              "#f0f921"
             ]
            ],
            "type": "contour"
           }
          ],
          "contourcarpet": [
           {
            "colorbar": {
             "outlinewidth": 0,
             "ticks": ""
            },
            "type": "contourcarpet"
           }
          ],
          "heatmap": [
           {
            "colorbar": {
             "outlinewidth": 0,
             "ticks": ""
            },
            "colorscale": [
             [
              0,
              "#0d0887"
             ],
             [
              0.1111111111111111,
              "#46039f"
             ],
             [
              0.2222222222222222,
              "#7201a8"
             ],
             [
              0.3333333333333333,
              "#9c179e"
             ],
             [
              0.4444444444444444,
              "#bd3786"
             ],
             [
              0.5555555555555556,
              "#d8576b"
             ],
             [
              0.6666666666666666,
              "#ed7953"
             ],
             [
              0.7777777777777778,
              "#fb9f3a"
             ],
             [
              0.8888888888888888,
              "#fdca26"
             ],
             [
              1,
              "#f0f921"
             ]
            ],
            "type": "heatmap"
           }
          ],
          "heatmapgl": [
           {
            "colorbar": {
             "outlinewidth": 0,
             "ticks": ""
            },
            "colorscale": [
             [
              0,
              "#0d0887"
             ],
             [
              0.1111111111111111,
              "#46039f"
             ],
             [
              0.2222222222222222,
              "#7201a8"
             ],
             [
              0.3333333333333333,
              "#9c179e"
             ],
             [
              0.4444444444444444,
              "#bd3786"
             ],
             [
              0.5555555555555556,
              "#d8576b"
             ],
             [
              0.6666666666666666,
              "#ed7953"
             ],
             [
              0.7777777777777778,
              "#fb9f3a"
             ],
             [
              0.8888888888888888,
              "#fdca26"
             ],
             [
              1,
              "#f0f921"
             ]
            ],
            "type": "heatmapgl"
           }
          ],
          "histogram": [
           {
            "marker": {
             "pattern": {
              "fillmode": "overlay",
              "size": 10,
              "solidity": 0.2
             }
            },
            "type": "histogram"
           }
          ],
          "histogram2d": [
           {
            "colorbar": {
             "outlinewidth": 0,
             "ticks": ""
            },
            "colorscale": [
             [
              0,
              "#0d0887"
             ],
             [
              0.1111111111111111,
              "#46039f"
             ],
             [
              0.2222222222222222,
              "#7201a8"
             ],
             [
              0.3333333333333333,
              "#9c179e"
             ],
             [
              0.4444444444444444,
              "#bd3786"
             ],
             [
              0.5555555555555556,
              "#d8576b"
             ],
             [
              0.6666666666666666,
              "#ed7953"
             ],
             [
              0.7777777777777778,
              "#fb9f3a"
             ],
             [
              0.8888888888888888,
              "#fdca26"
             ],
             [
              1,
              "#f0f921"
             ]
            ],
            "type": "histogram2d"
           }
          ],
          "histogram2dcontour": [
           {
            "colorbar": {
             "outlinewidth": 0,
             "ticks": ""
            },
            "colorscale": [
             [
              0,
              "#0d0887"
             ],
             [
              0.1111111111111111,
              "#46039f"
             ],
             [
              0.2222222222222222,
              "#7201a8"
             ],
             [
              0.3333333333333333,
              "#9c179e"
             ],
             [
              0.4444444444444444,
              "#bd3786"
             ],
             [
              0.5555555555555556,
              "#d8576b"
             ],
             [
              0.6666666666666666,
              "#ed7953"
             ],
             [
              0.7777777777777778,
              "#fb9f3a"
             ],
             [
              0.8888888888888888,
              "#fdca26"
             ],
             [
              1,
              "#f0f921"
             ]
            ],
            "type": "histogram2dcontour"
           }
          ],
          "mesh3d": [
           {
            "colorbar": {
             "outlinewidth": 0,
             "ticks": ""
            },
            "type": "mesh3d"
           }
          ],
          "parcoords": [
           {
            "line": {
             "colorbar": {
              "outlinewidth": 0,
              "ticks": ""
             }
            },
            "type": "parcoords"
           }
          ],
          "pie": [
           {
            "automargin": true,
            "type": "pie"
           }
          ],
          "scatter": [
           {
            "fillpattern": {
             "fillmode": "overlay",
             "size": 10,
             "solidity": 0.2
            },
            "type": "scatter"
           }
          ],
          "scatter3d": [
           {
            "line": {
             "colorbar": {
              "outlinewidth": 0,
              "ticks": ""
             }
            },
            "marker": {
             "colorbar": {
              "outlinewidth": 0,
              "ticks": ""
             }
            },
            "type": "scatter3d"
           }
          ],
          "scattercarpet": [
           {
            "marker": {
             "colorbar": {
              "outlinewidth": 0,
              "ticks": ""
             }
            },
            "type": "scattercarpet"
           }
          ],
          "scattergeo": [
           {
            "marker": {
             "colorbar": {
              "outlinewidth": 0,
              "ticks": ""
             }
            },
            "type": "scattergeo"
           }
          ],
          "scattergl": [
           {
            "marker": {
             "colorbar": {
              "outlinewidth": 0,
              "ticks": ""
             }
            },
            "type": "scattergl"
           }
          ],
          "scattermapbox": [
           {
            "marker": {
             "colorbar": {
              "outlinewidth": 0,
              "ticks": ""
             }
            },
            "type": "scattermapbox"
           }
          ],
          "scatterpolar": [
           {
            "marker": {
             "colorbar": {
              "outlinewidth": 0,
              "ticks": ""
             }
            },
            "type": "scatterpolar"
           }
          ],
          "scatterpolargl": [
           {
            "marker": {
             "colorbar": {
              "outlinewidth": 0,
              "ticks": ""
             }
            },
            "type": "scatterpolargl"
           }
          ],
          "scatterternary": [
           {
            "marker": {
             "colorbar": {
              "outlinewidth": 0,
              "ticks": ""
             }
            },
            "type": "scatterternary"
           }
          ],
          "surface": [
           {
            "colorbar": {
             "outlinewidth": 0,
             "ticks": ""
            },
            "colorscale": [
             [
              0,
              "#0d0887"
             ],
             [
              0.1111111111111111,
              "#46039f"
             ],
             [
              0.2222222222222222,
              "#7201a8"
             ],
             [
              0.3333333333333333,
              "#9c179e"
             ],
             [
              0.4444444444444444,
              "#bd3786"
             ],
             [
              0.5555555555555556,
              "#d8576b"
             ],
             [
              0.6666666666666666,
              "#ed7953"
             ],
             [
              0.7777777777777778,
              "#fb9f3a"
             ],
             [
              0.8888888888888888,
              "#fdca26"
             ],
             [
              1,
              "#f0f921"
             ]
            ],
            "type": "surface"
           }
          ],
          "table": [
           {
            "cells": {
             "fill": {
              "color": "#EBF0F8"
             },
             "line": {
              "color": "white"
             }
            },
            "header": {
             "fill": {
              "color": "#C8D4E3"
             },
             "line": {
              "color": "white"
             }
            },
            "type": "table"
           }
          ]
         },
         "layout": {
          "annotationdefaults": {
           "arrowcolor": "#2a3f5f",
           "arrowhead": 0,
           "arrowwidth": 1
          },
          "autotypenumbers": "strict",
          "coloraxis": {
           "colorbar": {
            "outlinewidth": 0,
            "ticks": ""
           }
          },
          "colorscale": {
           "diverging": [
            [
             0,
             "#8e0152"
            ],
            [
             0.1,
             "#c51b7d"
            ],
            [
             0.2,
             "#de77ae"
            ],
            [
             0.3,
             "#f1b6da"
            ],
            [
             0.4,
             "#fde0ef"
            ],
            [
             0.5,
             "#f7f7f7"
            ],
            [
             0.6,
             "#e6f5d0"
            ],
            [
             0.7,
             "#b8e186"
            ],
            [
             0.8,
             "#7fbc41"
            ],
            [
             0.9,
             "#4d9221"
            ],
            [
             1,
             "#276419"
            ]
           ],
           "sequential": [
            [
             0,
             "#0d0887"
            ],
            [
             0.1111111111111111,
             "#46039f"
            ],
            [
             0.2222222222222222,
             "#7201a8"
            ],
            [
             0.3333333333333333,
             "#9c179e"
            ],
            [
             0.4444444444444444,
             "#bd3786"
            ],
            [
             0.5555555555555556,
             "#d8576b"
            ],
            [
             0.6666666666666666,
             "#ed7953"
            ],
            [
             0.7777777777777778,
             "#fb9f3a"
            ],
            [
             0.8888888888888888,
             "#fdca26"
            ],
            [
             1,
             "#f0f921"
            ]
           ],
           "sequentialminus": [
            [
             0,
             "#0d0887"
            ],
            [
             0.1111111111111111,
             "#46039f"
            ],
            [
             0.2222222222222222,
             "#7201a8"
            ],
            [
             0.3333333333333333,
             "#9c179e"
            ],
            [
             0.4444444444444444,
             "#bd3786"
            ],
            [
             0.5555555555555556,
             "#d8576b"
            ],
            [
             0.6666666666666666,
             "#ed7953"
            ],
            [
             0.7777777777777778,
             "#fb9f3a"
            ],
            [
             0.8888888888888888,
             "#fdca26"
            ],
            [
             1,
             "#f0f921"
            ]
           ]
          },
          "colorway": [
           "#636efa",
           "#EF553B",
           "#00cc96",
           "#ab63fa",
           "#FFA15A",
           "#19d3f3",
           "#FF6692",
           "#B6E880",
           "#FF97FF",
           "#FECB52"
          ],
          "font": {
           "color": "#2a3f5f"
          },
          "geo": {
           "bgcolor": "white",
           "lakecolor": "white",
           "landcolor": "#E5ECF6",
           "showlakes": true,
           "showland": true,
           "subunitcolor": "white"
          },
          "hoverlabel": {
           "align": "left"
          },
          "hovermode": "closest",
          "mapbox": {
           "style": "light"
          },
          "paper_bgcolor": "white",
          "plot_bgcolor": "#E5ECF6",
          "polar": {
           "angularaxis": {
            "gridcolor": "white",
            "linecolor": "white",
            "ticks": ""
           },
           "bgcolor": "#E5ECF6",
           "radialaxis": {
            "gridcolor": "white",
            "linecolor": "white",
            "ticks": ""
           }
          },
          "scene": {
           "xaxis": {
            "backgroundcolor": "#E5ECF6",
            "gridcolor": "white",
            "gridwidth": 2,
            "linecolor": "white",
            "showbackground": true,
            "ticks": "",
            "zerolinecolor": "white"
           },
           "yaxis": {
            "backgroundcolor": "#E5ECF6",
            "gridcolor": "white",
            "gridwidth": 2,
            "linecolor": "white",
            "showbackground": true,
            "ticks": "",
            "zerolinecolor": "white"
           },
           "zaxis": {
            "backgroundcolor": "#E5ECF6",
            "gridcolor": "white",
            "gridwidth": 2,
            "linecolor": "white",
            "showbackground": true,
            "ticks": "",
            "zerolinecolor": "white"
           }
          },
          "shapedefaults": {
           "line": {
            "color": "#2a3f5f"
           }
          },
          "ternary": {
           "aaxis": {
            "gridcolor": "white",
            "linecolor": "white",
            "ticks": ""
           },
           "baxis": {
            "gridcolor": "white",
            "linecolor": "white",
            "ticks": ""
           },
           "bgcolor": "#E5ECF6",
           "caxis": {
            "gridcolor": "white",
            "linecolor": "white",
            "ticks": ""
           }
          },
          "title": {
           "x": 0.05
          },
          "xaxis": {
           "automargin": true,
           "gridcolor": "white",
           "linecolor": "white",
           "ticks": "",
           "title": {
            "standoff": 15
           },
           "zerolinecolor": "white",
           "zerolinewidth": 2
          },
          "yaxis": {
           "automargin": true,
           "gridcolor": "white",
           "linecolor": "white",
           "ticks": "",
           "title": {
            "standoff": 15
           },
           "zerolinecolor": "white",
           "zerolinewidth": 2
          }
         }
        },
        "title": {
         "text": "3D Scatter Plot: Total Profit, Total Revenue, and Unit Cost"
        }
       }
      },
      "image/png": "[encoded data removed]",
      "text/html": [
       "<div>                            <div id=\"316312f1-4e0d-48b9-8fc2-e6d1918806e5\" class=\"plotly-graph-div\" style=\"height:525px; width:100%;\"></div>            <script type=\"text/javascript\">                require([\"plotly\"], function(Plotly) {                    window.PLOTLYENV=window.PLOTLYENV || {};                                    if (document.getElementById(\"316312f1-4e0d-48b9-8fc2-e6d1918806e5\")) {                    Plotly.newPlot(                        \"316312f1-4e0d-48b9-8fc2-e6d1918806e5\",                        [{\"hovertemplate\":\"Total Profit=%{x}\\u003cbr\\u003eTotal Revenue=%{y}\\u003cbr\\u003eUnit Cost=%{z}\\u003cextra\\u003e\\u003c\\u002fextra\\u003e\",\"legendgroup\":\"\",\"marker\":{\"color\":\"#636efa\",\"symbol\":\"circle\"},\"mode\":\"markers\",\"name\":\"\",\"scene\":\"scene\",\"showlegend\":false,\"x\":[1.284334163842559,-0.0823539125244881,-0.12863753286532542,-0.5273133190657511,0.6771374737121866,-0.011042998193484197,0.783738535330958,0.42662319716945973,-0.26955245010298357,0.5702066592252266,-0.5500544470353798,0.02980242151788905,0.6144553066129631,2.170821778965789,-0.32650420366378524,-0.32641465987703394,1.7846085350645233,-0.3999613305370761,0.6687165473836567,0.09170093467791443,0.8230971510330054,-0.32803861790623196,-0.32676190936008914,-0.5550263045565957,-0.31827080216526044,0.04822466563312865,-0.5399821124329943,-0.537995585662391,-0.4092772281567229,0.19831850143671015,2.170821778965789,-0.46174634898866596,0.15238969300468713,2.092798302921673,0.2201517106202207,-0.2530369287538717,-0.5475440327343,-0.03517907294438852,1.0811294508144056,0.41329095160715296,-0.4183870156532395,1.8799288097734301,-0.20067249600088133,-0.5442861824867964,0.2813673503426804,-0.3995923852515861,2.170821778965789,-0.5519727370080028,0.5543481357643608,-0.2545475476000996,-0.2413223229987277,-0.5202667712756867,0.13447737800939705,0.283208480243741,-0.529491939226908,-0.0681394293185507,0.848887550160243,0.39705630924870183,-0.4744151423559092,1.8735065217611278,-0.44781538870630244,0.31992950069531056,0.7890574868097636,0.3079230125228229,0.011042998193484197,0.9480210176725238,-0.14356679166993552,0.2196896833436396,1.4686770400272875,0.4829619471080636,0.6643746652010594,-0.5621197043931365,-0.3904932123680887,0.9255068596790831,2.170821778965789,1.6752394895331504,-0.27973754066784356,-0.10724809615688503,1.040018315845256,2.170821778965789,0.8887726195629474,0.5603445756114898,1.6281075166594743,-0.1273774849846724,0.2271885186280091,-0.2524035901770621,-0.2964818010953133,0.47069343740760505,-0.5628271702949315,-0.4234032951355337,-0.33259703041814676,-0.27943309956916235,-0.0692413855635411,2.108427056947972,-0.31697068703656256,-0.4384909760674205,-0.5359106695941873,-0.3830202331923556,-0.28431411077785346,1.1639232573976683],\"y\":[0.91664597659596,-0.09032544643738591,0.20901730271389152,-0.34822957188902776,1.3091544970637337,0.003544628625310631,1.0526976911363088,0.2535854517313064,-0.13184282696899657,0.310738664623857,-0.3772974141047141,-0.1527462229435226,0.07753021168421334,2.251151491264601,-0.18100724631293624,-0.293048959059811,1.1769013626949094,-0.2545437584819577,0.9299325448891944,0.8954822945662257,0.5915235717294147,-0.21990313326478783,-0.21243188093642482,-0.3766278035020078,-0.17389964420076703,0.021202666790207606,-0.36121162062639006,-0.3591759739308865,-0.2620153401430385,0.427867801133488,1.5613843432869157,-0.2977569709483311,0.5927081609321582,2.251151491264601,0.1881515381482013,-0.11758556592742636,-0.36896052101917953,0.6477744387042266,1.8607310495766305,0.948920721880645,-0.26032640361205533,1.2403444291237833,-0.1630441174057348,-0.3735714157767054,-0.053662687457791035,-0.2853003982913868,1.607729278337795,-0.37564619646157,0.053855882263388714,0.037110394184659334,-0.2595337563642968,-0.34100878738422274,0.04293919220766679,0.7713170931857269,-0.35046206177914374,-0.1913224461803057,0.16986571978158627,0.25337729287034233,-0.29015355842946716,1.2360698962792849,-0.3149382845666964,0.23684458460227414,1.4619606379786065,-0.043203245005835285,-0.003544628625310631,0.620087215845749,-0.023083897607638102,-0.0779555860558819,2.251151491264601,0.02573910147856137,1.2917292353804588,-0.3838965985420842,-0.24695009215321212,0.5291063767165843,1.8383290765278515,2.004213544541815,-0.15812128796036204,-0.09126758500992113,0.7444296239575596,1.7847849282651846,1.1648025585776514,0.056217691849314216,1.0727377465368644,-0.06639402137205698,0.12476104145441111,-0.11703882730341332,-0.1715506014034812,0.34311691815259143,-0.3846215576246809,-0.2733447973023245,-0.06945178303229159,-0.1578771186250326,0.2901117897783635,1.3924278082227863,-0.18798319767115246,-0.33719230489199,-0.3570395051113132,-0.2694020157128036,-0.144586042590223,1.458476045678592],\"z\":[0.22921886676337416,0.04323266956789307,1.83605872785617,-0.44114026990197375,1.83605872785617,0.22921886676337416,1.7375049452723197,-0.07184931205767286,-0.2224493384324586,0.04323266956789307,-0.07184931205767286,-0.3140138028045189,-0.3140138028045189,1.7375049452723197,-0.2224493384324586,-0.3140138028045189,0.685986197195481,-0.3318167831553036,1.7375049452723197,1.1315442437030199,0.22921886676337416,0.22921886676337416,-0.04323266956789313,-0.44114026990197375,-0.2224493384324586,0.685986197195481,-0.44114026990197375,-0.44114026990197375,-0.3318167831553036,1.7375049452723197,0.685986197195481,-0.2224493384324586,1.83605872785617,1.7375049452723197,-0.04323266956789313,-0.2224493384324586,-0.44114026990197375,1.1315442437030199,1.83605872785617,1.83605872785617,-0.2224493384324586,0.685986197195481,0.04323266956789307,-0.07184931205767286,-0.3140138028045189,0.04323266956789307,0.685986197195481,-0.2224493384324586,-0.3140138028045189,1.83605872785617,-0.3140138028045189,-0.44114026990197375,0.04323266956789307,1.83605872785617,-0.44114026990197375,-0.3140138028045189,-0.3140138028045189,0.685986197195481,1.7375049452723197,0.685986197195481,0.04323266956789307,0.22921886676337416,1.83605872785617,-0.3140138028045189,0.685986197195481,0.685986197195481,-0.2224493384324586,-0.3140138028045189,1.83605872785617,-0.3140138028045189,1.83605872785617,-0.44114026990197375,-0.3318167831553036,0.04323266956789307,0.685986197195481,1.7375049452723197,-0.3318167831553036,-0.07184931205767286,0.22921886676337416,0.685986197195481,1.7375049452723197,-0.3140138028045189,0.685986197195481,-0.04323266956789313,-0.07184931205767286,-0.2224493384324586,-0.3318167831553036,0.22921886676337416,-0.44114026990197375,-0.3318167831553036,1.83605872785617,-0.3318167831553036,1.83605872785617,0.685986197195481,-0.3318167831553036,-0.3140138028045189,-0.44114026990197375,-0.07184931205767286,-0.2224493384324586,1.7375049452723197],\"type\":\"scatter3d\"}],                        {\"template\":{\"data\":{\"histogram2dcontour\":[{\"type\":\"histogram2dcontour\",\"colorbar\":{\"outlinewidth\":0,\"ticks\":\"\"},\"colorscale\":[[0.0,\"#0d0887\"],[0.1111111111111111,\"#46039f\"],[0.2222222222222222,\"#7201a8\"],[0.3333333333333333,\"#9c179e\"],[0.4444444444444444,\"#bd3786\"],[0.5555555555555556,\"#d8576b\"],[0.6666666666666666,\"#ed7953\"],[0.7777777777777778,\"#fb9f3a\"],[0.8888888888888888,\"#fdca26\"],[1.0,\"#f0f921\"]]}],\"choropleth\":[{\"type\":\"choropleth\",\"colorbar\":{\"outlinewidth\":0,\"ticks\":\"\"}}],\"histogram2d\":[{\"type\":\"histogram2d\",\"colorbar\":{\"outlinewidth\":0,\"ticks\":\"\"},\"colorscale\":[[0.0,\"#0d0887\"],[0.1111111111111111,\"#46039f\"],[0.2222222222222222,\"#7201a8\"],[0.3333333333333333,\"#9c179e\"],[0.4444444444444444,\"#bd3786\"],[0.5555555555555556,\"#d8576b\"],[0.6666666666666666,\"#ed7953\"],[0.7777777777777778,\"#fb9f3a\"],[0.8888888888888888,\"#fdca26\"],[1.0,\"#f0f921\"]]}],\"heatmap\":[{\"type\":\"heatmap\",\"colorbar\":{\"outlinewidth\":0,\"ticks\":\"\"},\"colorscale\":[[0.0,\"#0d0887\"],[0.1111111111111111,\"#46039f\"],[0.2222222222222222,\"#7201a8\"],[0.3333333333333333,\"#9c179e\"],[0.4444444444444444,\"#bd3786\"],[0.5555555555555556,\"#d8576b\"],[0.6666666666666666,\"#ed7953\"],[0.7777777777777778,\"#fb9f3a\"],[0.8888888888888888,\"#fdca26\"],[1.0,\"#f0f921\"]]}],\"heatmapgl\":[{\"type\":\"heatmapgl\",\"colorbar\":{\"outlinewidth\":0,\"ticks\":\"\"},\"colorscale\":[[0.0,\"#0d0887\"],[0.1111111111111111,\"#46039f\"],[0.2222222222222222,\"#7201a8\"],[0.3333333333333333,\"#9c179e\"],[0.4444444444444444,\"#bd3786\"],[0.5555555555555556,\"#d8576b\"],[0.6666666666666666,\"#ed7953\"],[0.7777777777777778,\"#fb9f3a\"],[0.8888888888888888,\"#fdca26\"],[1.0,\"#f0f921\"]]}],\"contourcarpet\":[{\"type\":\"contourcarpet\",\"colorbar\":{\"outlinewidth\":0,\"ticks\":\"\"}}],\"contour\":[{\"type\":\"contour\",\"colorbar\":{\"outlinewidth\":0,\"ticks\":\"\"},\"colorscale\":[[0.0,\"#0d0887\"],[0.1111111111111111,\"#46039f\"],[0.2222222222222222,\"#7201a8\"],[0.3333333333333333,\"#9c179e\"],[0.4444444444444444,\"#bd3786\"],[0.5555555555555556,\"#d8576b\"],[0.6666666666666666,\"#ed7953\"],[0.7777777777777778,\"#fb9f3a\"],[0.8888888888888888,\"#fdca26\"],[1.0,\"#f0f921\"]]}],\"surface\":[{\"type\":\"surface\",\"colorbar\":{\"outlinewidth\":0,\"ticks\":\"\"},\"colorscale\":[[0.0,\"#0d0887\"],[0.1111111111111111,\"#46039f\"],[0.2222222222222222,\"#7201a8\"],[0.3333333333333333,\"#9c179e\"],[0.4444444444444444,\"#bd3786\"],[0.5555555555555556,\"#d8576b\"],[0.6666666666666666,\"#ed7953\"],[0.7777777777777778,\"#fb9f3a\"],[0.8888888888888888,\"#fdca26\"],[1.0,\"#f0f921\"]]}],\"mesh3d\":[{\"type\":\"mesh3d\",\"colorbar\":{\"outlinewidth\":0,\"ticks\":\"\"}}],\"scatter\":[{\"fillpattern\":{\"fillmode\":\"overlay\",\"size\":10,\"solidity\":0.2},\"type\":\"scatter\"}],\"parcoords\":[{\"type\":\"parcoords\",\"line\":{\"colorbar\":{\"outlinewidth\":0,\"ticks\":\"\"}}}],\"scatterpolargl\":[{\"type\":\"scatterpolargl\",\"marker\":{\"colorbar\":{\"outlinewidth\":0,\"ticks\":\"\"}}}],\"bar\":[{\"error_x\":{\"color\":\"#2a3f5f\"},\"error_y\":{\"color\":\"#2a3f5f\"},\"marker\":{\"line\":{\"color\":\"#E5ECF6\",\"width\":0.5},\"pattern\":{\"fillmode\":\"overlay\",\"size\":10,\"solidity\":0.2}},\"type\":\"bar\"}],\"scattergeo\":[{\"type\":\"scattergeo\",\"marker\":{\"colorbar\":{\"outlinewidth\":0,\"ticks\":\"\"}}}],\"scatterpolar\":[{\"type\":\"scatterpolar\",\"marker\":{\"colorbar\":{\"outlinewidth\":0,\"ticks\":\"\"}}}],\"histogram\":[{\"marker\":{\"pattern\":{\"fillmode\":\"overlay\",\"size\":10,\"solidity\":0.2}},\"type\":\"histogram\"}],\"scattergl\":[{\"type\":\"scattergl\",\"marker\":{\"colorbar\":{\"outlinewidth\":0,\"ticks\":\"\"}}}],\"scatter3d\":[{\"type\":\"scatter3d\",\"line\":{\"colorbar\":{\"outlinewidth\":0,\"ticks\":\"\"}},\"marker\":{\"colorbar\":{\"outlinewidth\":0,\"ticks\":\"\"}}}],\"scattermapbox\":[{\"type\":\"scattermapbox\",\"marker\":{\"colorbar\":{\"outlinewidth\":0,\"ticks\":\"\"}}}],\"scatterternary\":[{\"type\":\"scatterternary\",\"marker\":{\"colorbar\":{\"outlinewidth\":0,\"ticks\":\"\"}}}],\"scattercarpet\":[{\"type\":\"scattercarpet\",\"marker\":{\"colorbar\":{\"outlinewidth\":0,\"ticks\":\"\"}}}],\"carpet\":[{\"aaxis\":{\"endlinecolor\":\"#2a3f5f\",\"gridcolor\":\"white\",\"linecolor\":\"white\",\"minorgridcolor\":\"white\",\"startlinecolor\":\"#2a3f5f\"},\"baxis\":{\"endlinecolor\":\"#2a3f5f\",\"gridcolor\":\"white\",\"linecolor\":\"white\",\"minorgridcolor\":\"white\",\"startlinecolor\":\"#2a3f5f\"},\"type\":\"carpet\"}],\"table\":[{\"cells\":{\"fill\":{\"color\":\"#EBF0F8\"},\"line\":{\"color\":\"white\"}},\"header\":{\"fill\":{\"color\":\"#C8D4E3\"},\"line\":{\"color\":\"white\"}},\"type\":\"table\"}],\"barpolar\":[{\"marker\":{\"line\":{\"color\":\"#E5ECF6\",\"width\":0.5},\"pattern\":{\"fillmode\":\"overlay\",\"size\":10,\"solidity\":0.2}},\"type\":\"barpolar\"}],\"pie\":[{\"automargin\":true,\"type\":\"pie\"}]},\"layout\":{\"autotypenumbers\":\"strict\",\"colorway\":[\"#636efa\",\"#EF553B\",\"#00cc96\",\"#ab63fa\",\"#FFA15A\",\"#19d3f3\",\"#FF6692\",\"#B6E880\",\"#FF97FF\",\"#FECB52\"],\"font\":{\"color\":\"#2a3f5f\"},\"hovermode\":\"closest\",\"hoverlabel\":{\"align\":\"left\"},\"paper_bgcolor\":\"white\",\"plot_bgcolor\":\"#E5ECF6\",\"polar\":{\"bgcolor\":\"#E5ECF6\",\"angularaxis\":{\"gridcolor\":\"white\",\"linecolor\":\"white\",\"ticks\":\"\"},\"radialaxis\":{\"gridcolor\":\"white\",\"linecolor\":\"white\",\"ticks\":\"\"}},\"ternary\":{\"bgcolor\":\"#E5ECF6\",\"aaxis\":{\"gridcolor\":\"white\",\"linecolor\":\"white\",\"ticks\":\"\"},\"baxis\":{\"gridcolor\":\"white\",\"linecolor\":\"white\",\"ticks\":\"\"},\"caxis\":{\"gridcolor\":\"white\",\"linecolor\":\"white\",\"ticks\":\"\"}},\"coloraxis\":{\"colorbar\":{\"outlinewidth\":0,\"ticks\":\"\"}},\"colorscale\":{\"sequential\":[[0.0,\"#0d0887\"],[0.1111111111111111,\"#46039f\"],[0.2222222222222222,\"#7201a8\"],[0.3333333333333333,\"#9c179e\"],[0.4444444444444444,\"#bd3786\"],[0.5555555555555556,\"#d8576b\"],[0.6666666666666666,\"#ed7953\"],[0.7777777777777778,\"#fb9f3a\"],[0.8888888888888888,\"#fdca26\"],[1.0,\"#f0f921\"]],\"sequentialminus\":[[0.0,\"#0d0887\"],[0.1111111111111111,\"#46039f\"],[0.2222222222222222,\"#7201a8\"],[0.3333333333333333,\"#9c179e\"],[0.4444444444444444,\"#bd3786\"],[0.5555555555555556,\"#d8576b\"],[0.6666666666666666,\"#ed7953\"],[0.7777777777777778,\"#fb9f3a\"],[0.8888888888888888,\"#fdca26\"],[1.0,\"#f0f921\"]],\"diverging\":[[0,\"#8e0152\"],[0.1,\"#c51b7d\"],[0.2,\"#de77ae\"],[0.3,\"#f1b6da\"],[0.4,\"#fde0ef\"],[0.5,\"#f7f7f7\"],[0.6,\"#e6f5d0\"],[0.7,\"#b8e186\"],[0.8,\"#7fbc41\"],[0.9,\"#4d9221\"],[1,\"#276419\"]]},\"xaxis\":{\"gridcolor\":\"white\",\"linecolor\":\"white\",\"ticks\":\"\",\"title\":{\"standoff\":15},\"zerolinecolor\":\"white\",\"automargin\":true,\"zerolinewidth\":2},\"yaxis\":{\"gridcolor\":\"white\",\"linecolor\":\"white\",\"ticks\":\"\",\"title\":{\"standoff\":15},\"zerolinecolor\":\"white\",\"automargin\":true,\"zerolinewidth\":2},\"scene\":{\"xaxis\":{\"backgroundcolor\":\"#E5ECF6\",\"gridcolor\":\"white\",\"linecolor\":\"white\",\"showbackground\":true,\"ticks\":\"\",\"zerolinecolor\":\"white\",\"gridwidth\":2},\"yaxis\":{\"backgroundcolor\":\"#E5ECF6\",\"gridcolor\":\"white\",\"linecolor\":\"white\",\"showbackground\":true,\"ticks\":\"\",\"zerolinecolor\":\"white\",\"gridwidth\":2},\"zaxis\":{\"backgroundcolor\":\"#E5ECF6\",\"gridcolor\":\"white\",\"linecolor\":\"white\",\"showbackground\":true,\"ticks\":\"\",\"zerolinecolor\":\"white\",\"gridwidth\":2}},\"shapedefaults\":{\"line\":{\"color\":\"#2a3f5f\"}},\"annotationdefaults\":{\"arrowcolor\":\"#2a3f5f\",\"arrowhead\":0,\"arrowwidth\":1},\"geo\":{\"bgcolor\":\"white\",\"landcolor\":\"#E5ECF6\",\"subunitcolor\":\"white\",\"showland\":true,\"showlakes\":true,\"lakecolor\":\"white\"},\"title\":{\"x\":0.05},\"mapbox\":{\"style\":\"light\"}}},\"scene\":{\"domain\":{\"x\":[0.0,1.0],\"y\":[0.0,1.0]},\"xaxis\":{\"title\":{\"text\":\"Total Profit\"}},\"yaxis\":{\"title\":{\"text\":\"Total Revenue\"}},\"zaxis\":{\"title\":{\"text\":\"Unit Cost\"}}},\"legend\":{\"tracegroupgap\":0},\"title\":{\"text\":\"3D Scatter Plot: Total Profit, Total Revenue, and Unit Cost\"}},                        {\"responsive\": true}                    ).then(function(){\n",
       "                            \n",
       "var gd = document.getElementById('316312f1-4e0d-48b9-8fc2-e6d1918806e5');\n",
       "var x = new MutationObserver(function (mutations, observer) {{\n",
       "        var display = window.getComputedStyle(gd).display;\n",
       "        if (!display || display === 'none') {{\n",
       "            console.log([gd, 'removed!']);\n",
       "            Plotly.purge(gd);\n",
       "            observer.disconnect();\n",
       "        }}\n",
       "}});\n",
       "\n",
       "// Listen for the removal of the full notebook cells\n",
       "var notebookContainer = gd.closest('#notebook-container');\n",
       "if (notebookContainer) {{\n",
       "    x.observe(notebookContainer, {childList: true});\n",
       "}}\n",
       "\n",
       "// Listen for the clearing of the current output cell\n",
       "var outputEl = gd.closest('.output');\n",
       "if (outputEl) {{\n",
       "    x.observe(outputEl, {childList: true});\n",
       "}}\n",
       "\n",
       "                        })                };                });            </script>        </div>"
      ]
     },
     "metadata": {},
     "output_type": "display_data"
    }
   ],
   "source": [
    "df[numerical_columns] = robust_scale(df[numerical_columns])\n",
    "df[numerical_columns].head()\n",
    "\n",
    "\n",
    "fig = px.scatter_3d(df, x='Total_Profit', y='Total_Revenue', z='Unit_Cost', \n",
    "                    title=\"3D Scatter Plot: Total Profit, Total Revenue, and Unit Cost\",\n",
    "                    labels={'Total_Profit': 'Total Profit', 'Total_Revenue': 'Total Revenue', 'Unit_Cost': 'Unit Cost'})\n",
    "fig.show()"
   ]
  },
  {
   "cell_type": "code",
   "execution_count": null,
   "id": "cb3ddef2-7b54-4a0e-9e3f-0d5a804a8e2a",
   "metadata": {},
   "outputs": [],
   "source": []
  },
  {
   "cell_type": "code",
   "execution_count": 134,
   "id": "a1484093-545f-4c5c-bcd2-6f6d68cf9b6c",
   "metadata": {},
   "outputs": [
    {
     "data": {
      "application/vnd.plotly.v1+json": {
       "config": {
        "plotlyServerURL": "https://plot.ly"
       },
       "data": [
        {
         "hovertemplate": "Total Profit=%{x}<br>Total Revenue=%{y}<br>Unit Cost=%{z}<extra></extra>",
         "legendgroup": "",
         "marker": {
          "color": "#636efa",
          "symbol": "circle"
         },
         "mode": "markers",
         "name": "",
         "scene": "scene",
         "showlegend": false,
         "type": "scatter3d",
         "x": [
          1.2545189595659936,
          -0.44578317038702114,
          -0.5033648085151987,
          -0.9993589568209333,
          0.4991031164180216,
          -0.3570649751948805,
          0.6317259257187817,
          0.18743729789306285,
          -0.6786776235345893,
          0.3660700602483274,
          -1.0276512855482598,
          -0.3062490243316193,
          0.4211199803448734,
          2.357401765259095,
          -0.7495315290880783,
          -0.7494201273030111,
          1.8769123159277004,
          -0.8409198359319447,
          0.4886266081202121,
          -0.22924083527455005,
          0.6806921377370245,
          -0.7514405000155173,
          -0.7498521417808379,
          -1.0338367934774852,
          -0.7392883211851359,
          -0.2833298363696371,
          -1.0151202535782142,
          -1.0126488076369837,
          -0.852509781610856,
          -0.09659749186273431,
          2.357401765259095,
          -0.9177868257659957,
          -0.15373770706879686,
          2.260332445054885,
          -0.0694347085470901,
          -0.6581305970310539,
          -1.024528069024313,
          -0.3870927628205378,
          1.001711159195993,
          0.17085059759279717,
          -0.8638433048570091,
          1.99550065288465,
          -0.5929837957357897,
          -1.0204749644346958,
          0.006723914921123167,
          -0.8404608296190907,
          2.357401765259095,
          -1.030037837814808,
          0.34634040745871875,
          -0.6600099640103988,
          -0.643556408917861,
          -0.9905923183878895,
          -0.17602249016271293,
          0.009014472032453952,
          -1.0020693869215753,
          -0.4280988746876814,
          0.7127780769697332,
          0.1506530137706885,
          -0.9335481225232766,
          1.987510658550671,
          -0.9004552620756485,
          0.05469924119633114,
          0.6383432546359772,
          0.039761920994341074,
          -0.32958769830319895,
          0.8361104224225592,
          -0.5219383594102758,
          -0.07000951853925413,
          1.4838606728936947,
          0.2575285631758747,
          0.4832248550422898,
          -1.0426617207298976,
          -0.8291405120556657,
          0.8081004679550374,
          2.357401765259095,
          1.7408458467138586,
          -0.6913489356508332,
          -0.47675412431977365,
          0.9505646309123458,
          2.357401765259095,
          0.76239925215333,
          0.3538006023784776,
          1.6822087697891628,
          -0.5017971778814316,
          -0.06068018741633012,
          -0.6573426579615969,
          -0.7121805373612944,
          0.24226526093759815,
          -1.043541881902364,
          -0.8700840783265905,
          -0.7571116393466047,
          -0.6909701792560976,
          -0.4294698228819854,
          2.279776240767266,
          -0.7376708427270042,
          -0.8888547228270763,
          -1.0100549551750793,
          -0.8198433486214389,
          -0.6970426649227048,
          1.104715266800889
         ],
         "y": [
          0.8341154519181879,
          -0.554537902658861,
          -0.1417324314518871,
          -0.9101978754998409,
          1.375400200601268,
          -0.4250873625059492,
          1.0217361385343942,
          -0.08027119409731567,
          -0.6117920098060147,
          -0.0014546567133462255,
          -0.9502835777152377,
          -0.6406186182659022,
          -0.3230583220038913,
          2.67445125217735,
          -0.6795916854334866,
          -0.8341016314951372,
          1.1930179060358785,
          -0.7810014394459657,
          0.8524381542404026,
          0.80492989871027,
          0.3857588175202971,
          -0.7332306494194087,
          -0.7229274974417489,
          -0.949360158253236,
          -0.6697900214633902,
          -0.40073623061476965,
          -0.9281006333299643,
          -0.9252933961554184,
          -0.7913050455864477,
          0.1600710476039112,
          1.7232351183263124,
          -0.8405941657943607,
          0.38739241280667597,
          2.67445125217735,
          -0.17050714471304101,
          -0.5921306838541643,
          -0.938786672951939,
          0.46333098425283126,
          2.1360460465834468,
          0.8786236000965035,
          -0.7889759354192967,
          1.280508399813469,
          -0.6548198213615711,
          -0.9451452788926639,
          -0.5039785103260577,
          -0.8234160602285729,
          1.787146613780864,
          -0.94800648338382,
          -0.35570615710189046,
          -0.3787988463904399,
          -0.787882843565428,
          -0.9002401285410738,
          -0.3707607037553501,
          0.633701183103457,
          -0.9132765672124915,
          -0.6938167533662049,
          -0.19572401029150507,
          -0.08055825338614038,
          -0.8301087596953994,
          1.2746136502327094,
          -0.8642878757114825,
          -0.10335751091376566,
          1.5861259027688703,
          -0.4895545261734975,
          -0.43486372818758867,
          0.42514921064745054,
          -0.4618091516600419,
          -0.5374793767449072,
          2.67445125217735,
          -0.3944803080496329,
          1.3513700766698749,
          -0.9593841136359309,
          -0.7705294737280248,
          0.2996830409339477,
          2.105152841163951,
          2.3339140728242374,
          -0.6480310451689609,
          -0.5558371489525507,
          0.596622301334093,
          2.0313133464154873,
          1.1763331774135006,
          -0.3524491284222801,
          1.0493721662521038,
          -0.5215355225151717,
          -0.2579251427501333,
          -0.5913767097026185,
          -0.6665505986894351,
          0.043196233420736856,
          -0.9603838608372434,
          -0.8069288143746295,
          -0.5257522965862679,
          -0.6476943260140433,
          -0.02989993161732628,
          1.4902373848973387,
          -0.6892117978153973,
          -0.8949770484830929,
          -0.9223471212906236,
          -0.8014915628743239,
          -0.6293654073381995,
          1.581320512391284
         ],
         "z": [
          -0.16889454969568407,
          -0.3948313271594626,
          1.7831009509923246,
          -0.9832495145556756,
          1.7831009509923246,
          -0.16889454969568407,
          1.6633774210765147,
          -0.5346333794875582,
          -0.7175828948718421,
          -0.3948313271594626,
          -0.5346333794875582,
          -0.8288157730228823,
          -0.8288157730228823,
          1.6633774210765147,
          -0.7175828948718421,
          -0.8288157730228823,
          0.3859882332459665,
          -0.8504429048765412,
          1.6633774210765147,
          0.9272539331686468,
          -0.16889454969568407,
          -0.16889454969568407,
          -0.4998697675450104,
          -0.9832495145556756,
          -0.7175828948718421,
          0.3859882332459665,
          -0.9832495145556756,
          -0.9832495145556756,
          -0.8504429048765412,
          1.6633774210765147,
          0.3859882332459665,
          -0.7175828948718421,
          1.7831009509923246,
          1.6633774210765147,
          -0.4998697675450104,
          -0.7175828948718421,
          -0.9832495145556756,
          0.9272539331686468,
          1.7831009509923246,
          1.7831009509923246,
          -0.7175828948718421,
          0.3859882332459665,
          -0.3948313271594626,
          -0.5346333794875582,
          -0.8288157730228823,
          -0.3948313271594626,
          0.3859882332459665,
          -0.7175828948718421,
          -0.8288157730228823,
          1.7831009509923246,
          -0.8288157730228823,
          -0.9832495145556756,
          -0.3948313271594626,
          1.7831009509923246,
          -0.9832495145556756,
          -0.8288157730228823,
          -0.8288157730228823,
          0.3859882332459665,
          1.6633774210765147,
          0.3859882332459665,
          -0.3948313271594626,
          -0.16889454969568407,
          1.7831009509923246,
          -0.8288157730228823,
          0.3859882332459665,
          0.3859882332459665,
          -0.7175828948718421,
          -0.8288157730228823,
          1.7831009509923246,
          -0.8288157730228823,
          1.7831009509923246,
          -0.9832495145556756,
          -0.8504429048765412,
          -0.3948313271594626,
          0.3859882332459665,
          1.6633774210765147,
          -0.8504429048765412,
          -0.5346333794875582,
          -0.16889454969568407,
          0.3859882332459665,
          1.6633774210765147,
          -0.8288157730228823,
          0.3859882332459665,
          -0.4998697675450104,
          -0.5346333794875582,
          -0.7175828948718421,
          -0.8504429048765412,
          -0.16889454969568407,
          -0.9832495145556756,
          -0.8504429048765412,
          1.7831009509923246,
          -0.8504429048765412,
          1.7831009509923246,
          0.3859882332459665,
          -0.8504429048765412,
          -0.8288157730228823,
          -0.9832495145556756,
          -0.5346333794875582,
          -0.7175828948718421,
          1.6633774210765147
         ]
        }
       ],
       "layout": {
        "autosize": true,
        "legend": {
         "tracegroupgap": 0
        },
        "scene": {
         "aspectmode": "auto",
         "aspectratio": {
          "x": 1.0477773013180882,
          "y": 1.1198355869934384,
          "z": 0.8522691129302072
         },
         "domain": {
          "x": [
           0,
           1
          ],
          "y": [
           0,
           1
          ]
         },
         "xaxis": {
          "title": {
           "text": "Total Profit"
          },
          "type": "linear"
         },
         "yaxis": {
          "title": {
           "text": "Total Revenue"
          },
          "type": "linear"
         },
         "zaxis": {
          "title": {
           "text": "Unit Cost"
          },
          "type": "linear"
         }
        },
        "template": {
         "data": {
          "bar": [
           {
            "error_x": {
             "color": "#2a3f5f"
            },
            "error_y": {
             "color": "#2a3f5f"
            },
            "marker": {
             "line": {
              "color": "#E5ECF6",
              "width": 0.5
             },
             "pattern": {
              "fillmode": "overlay",
              "size": 10,
              "solidity": 0.2
             }
            },
            "type": "bar"
           }
          ],
          "barpolar": [
           {
            "marker": {
             "line": {
              "color": "#E5ECF6",
              "width": 0.5
             },
             "pattern": {
              "fillmode": "overlay",
              "size": 10,
              "solidity": 0.2
             }
            },
            "type": "barpolar"
           }
          ],
          "carpet": [
           {
            "aaxis": {
             "endlinecolor": "#2a3f5f",
             "gridcolor": "white",
             "linecolor": "white",
             "minorgridcolor": "white",
             "startlinecolor": "#2a3f5f"
            },
            "baxis": {
             "endlinecolor": "#2a3f5f",
             "gridcolor": "white",
             "linecolor": "white",
             "minorgridcolor": "white",
             "startlinecolor": "#2a3f5f"
            },
            "type": "carpet"
           }
          ],
          "choropleth": [
           {
            "colorbar": {
             "outlinewidth": 0,
             "ticks": ""
            },
            "type": "choropleth"
           }
          ],
          "contour": [
           {
            "colorbar": {
             "outlinewidth": 0,
             "ticks": ""
            },
            "colorscale": [
             [
              0,
              "#0d0887"
             ],
             [
              0.1111111111111111,
              "#46039f"
             ],
             [
              0.2222222222222222,
              "#7201a8"
             ],
             [
              0.3333333333333333,
              "#9c179e"
             ],
             [
              0.4444444444444444,
              "#bd3786"
             ],
             [
              0.5555555555555556,
              "#d8576b"
             ],
             [
              0.6666666666666666,
              "#ed7953"
             ],
             [
              0.7777777777777778,
              "#fb9f3a"
             ],
             [
              0.8888888888888888,
              "#fdca26"
             ],
             [
              1,
              "#f0f921"
             ]
            ],
            "type": "contour"
           }
          ],
          "contourcarpet": [
           {
            "colorbar": {
             "outlinewidth": 0,
             "ticks": ""
            },
            "type": "contourcarpet"
           }
          ],
          "heatmap": [
           {
            "colorbar": {
             "outlinewidth": 0,
             "ticks": ""
            },
            "colorscale": [
             [
              0,
              "#0d0887"
             ],
             [
              0.1111111111111111,
              "#46039f"
             ],
             [
              0.2222222222222222,
              "#7201a8"
             ],
             [
              0.3333333333333333,
              "#9c179e"
             ],
             [
              0.4444444444444444,
              "#bd3786"
             ],
             [
              0.5555555555555556,
              "#d8576b"
             ],
             [
              0.6666666666666666,
              "#ed7953"
             ],
             [
              0.7777777777777778,
              "#fb9f3a"
             ],
             [
              0.8888888888888888,
              "#fdca26"
             ],
             [
              1,
              "#f0f921"
             ]
            ],
            "type": "heatmap"
           }
          ],
          "heatmapgl": [
           {
            "colorbar": {
             "outlinewidth": 0,
             "ticks": ""
            },
            "colorscale": [
             [
              0,
              "#0d0887"
             ],
             [
              0.1111111111111111,
              "#46039f"
             ],
             [
              0.2222222222222222,
              "#7201a8"
             ],
             [
              0.3333333333333333,
              "#9c179e"
             ],
             [
              0.4444444444444444,
              "#bd3786"
             ],
             [
              0.5555555555555556,
              "#d8576b"
             ],
             [
              0.6666666666666666,
              "#ed7953"
             ],
             [
              0.7777777777777778,
              "#fb9f3a"
             ],
             [
              0.8888888888888888,
              "#fdca26"
             ],
             [
              1,
              "#f0f921"
             ]
            ],
            "type": "heatmapgl"
           }
          ],
          "histogram": [
           {
            "marker": {
             "pattern": {
              "fillmode": "overlay",
              "size": 10,
              "solidity": 0.2
             }
            },
            "type": "histogram"
           }
          ],
          "histogram2d": [
           {
            "colorbar": {
             "outlinewidth": 0,
             "ticks": ""
            },
            "colorscale": [
             [
              0,
              "#0d0887"
             ],
             [
              0.1111111111111111,
              "#46039f"
             ],
             [
              0.2222222222222222,
              "#7201a8"
             ],
             [
              0.3333333333333333,
              "#9c179e"
             ],
             [
              0.4444444444444444,
              "#bd3786"
             ],
             [
              0.5555555555555556,
              "#d8576b"
             ],
             [
              0.6666666666666666,
              "#ed7953"
             ],
             [
              0.7777777777777778,
              "#fb9f3a"
             ],
             [
              0.8888888888888888,
              "#fdca26"
             ],
             [
              1,
              "#f0f921"
             ]
            ],
            "type": "histogram2d"
           }
          ],
          "histogram2dcontour": [
           {
            "colorbar": {
             "outlinewidth": 0,
             "ticks": ""
            },
            "colorscale": [
             [
              0,
              "#0d0887"
             ],
             [
              0.1111111111111111,
              "#46039f"
             ],
             [
              0.2222222222222222,
              "#7201a8"
             ],
             [
              0.3333333333333333,
              "#9c179e"
             ],
             [
              0.4444444444444444,
              "#bd3786"
             ],
             [
              0.5555555555555556,
              "#d8576b"
             ],
             [
              0.6666666666666666,
              "#ed7953"
             ],
             [
              0.7777777777777778,
              "#fb9f3a"
             ],
             [
              0.8888888888888888,
              "#fdca26"
             ],
             [
              1,
              "#f0f921"
             ]
            ],
            "type": "histogram2dcontour"
           }
          ],
          "mesh3d": [
           {
            "colorbar": {
             "outlinewidth": 0,
             "ticks": ""
            },
            "type": "mesh3d"
           }
          ],
          "parcoords": [
           {
            "line": {
             "colorbar": {
              "outlinewidth": 0,
              "ticks": ""
             }
            },
            "type": "parcoords"
           }
          ],
          "pie": [
           {
            "automargin": true,
            "type": "pie"
           }
          ],
          "scatter": [
           {
            "fillpattern": {
             "fillmode": "overlay",
             "size": 10,
             "solidity": 0.2
            },
            "type": "scatter"
           }
          ],
          "scatter3d": [
           {
            "line": {
             "colorbar": {
              "outlinewidth": 0,
              "ticks": ""
             }
            },
            "marker": {
             "colorbar": {
              "outlinewidth": 0,
              "ticks": ""
             }
            },
            "type": "scatter3d"
           }
          ],
          "scattercarpet": [
           {
            "marker": {
             "colorbar": {
              "outlinewidth": 0,
              "ticks": ""
             }
            },
            "type": "scattercarpet"
           }
          ],
          "scattergeo": [
           {
            "marker": {
             "colorbar": {
              "outlinewidth": 0,
              "ticks": ""
             }
            },
            "type": "scattergeo"
           }
          ],
          "scattergl": [
           {
            "marker": {
             "colorbar": {
              "outlinewidth": 0,
              "ticks": ""
             }
            },
            "type": "scattergl"
           }
          ],
          "scattermapbox": [
           {
            "marker": {
             "colorbar": {
              "outlinewidth": 0,
              "ticks": ""
             }
            },
            "type": "scattermapbox"
           }
          ],
          "scatterpolar": [
           {
            "marker": {
             "colorbar": {
              "outlinewidth": 0,
              "ticks": ""
             }
            },
            "type": "scatterpolar"
           }
          ],
          "scatterpolargl": [
           {
            "marker": {
             "colorbar": {
              "outlinewidth": 0,
              "ticks": ""
             }
            },
            "type": "scatterpolargl"
           }
          ],
          "scatterternary": [
           {
            "marker": {
             "colorbar": {
              "outlinewidth": 0,
              "ticks": ""
             }
            },
            "type": "scatterternary"
           }
          ],
          "surface": [
           {
            "colorbar": {
             "outlinewidth": 0,
             "ticks": ""
            },
            "colorscale": [
             [
              0,
              "#0d0887"
             ],
             [
              0.1111111111111111,
              "#46039f"
             ],
             [
              0.2222222222222222,
              "#7201a8"
             ],
             [
              0.3333333333333333,
              "#9c179e"
             ],
             [
              0.4444444444444444,
              "#bd3786"
             ],
             [
              0.5555555555555556,
              "#d8576b"
             ],
             [
              0.6666666666666666,
              "#ed7953"
             ],
             [
              0.7777777777777778,
              "#fb9f3a"
             ],
             [
              0.8888888888888888,
              "#fdca26"
             ],
             [
              1,
              "#f0f921"
             ]
            ],
            "type": "surface"
           }
          ],
          "table": [
           {
            "cells": {
             "fill": {
              "color": "#EBF0F8"
             },
             "line": {
              "color": "white"
             }
            },
            "header": {
             "fill": {
              "color": "#C8D4E3"
             },
             "line": {
              "color": "white"
             }
            },
            "type": "table"
           }
          ]
         },
         "layout": {
          "annotationdefaults": {
           "arrowcolor": "#2a3f5f",
           "arrowhead": 0,
           "arrowwidth": 1
          },
          "autotypenumbers": "strict",
          "coloraxis": {
           "colorbar": {
            "outlinewidth": 0,
            "ticks": ""
           }
          },
          "colorscale": {
           "diverging": [
            [
             0,
             "#8e0152"
            ],
            [
             0.1,
             "#c51b7d"
            ],
            [
             0.2,
             "#de77ae"
            ],
            [
             0.3,
             "#f1b6da"
            ],
            [
             0.4,
             "#fde0ef"
            ],
            [
             0.5,
             "#f7f7f7"
            ],
            [
             0.6,
             "#e6f5d0"
            ],
            [
             0.7,
             "#b8e186"
            ],
            [
             0.8,
             "#7fbc41"
            ],
            [
             0.9,
             "#4d9221"
            ],
            [
             1,
             "#276419"
            ]
           ],
           "sequential": [
            [
             0,
             "#0d0887"
            ],
            [
             0.1111111111111111,
             "#46039f"
            ],
            [
             0.2222222222222222,
             "#7201a8"
            ],
            [
             0.3333333333333333,
             "#9c179e"
            ],
            [
             0.4444444444444444,
             "#bd3786"
            ],
            [
             0.5555555555555556,
             "#d8576b"
            ],
            [
             0.6666666666666666,
             "#ed7953"
            ],
            [
             0.7777777777777778,
             "#fb9f3a"
            ],
            [
             0.8888888888888888,
             "#fdca26"
            ],
            [
             1,
             "#f0f921"
            ]
           ],
           "sequentialminus": [
            [
             0,
             "#0d0887"
            ],
            [
             0.1111111111111111,
             "#46039f"
            ],
            [
             0.2222222222222222,
             "#7201a8"
            ],
            [
             0.3333333333333333,
             "#9c179e"
            ],
            [
             0.4444444444444444,
             "#bd3786"
            ],
            [
             0.5555555555555556,
             "#d8576b"
            ],
            [
             0.6666666666666666,
             "#ed7953"
            ],
            [
             0.7777777777777778,
             "#fb9f3a"
            ],
            [
             0.8888888888888888,
             "#fdca26"
            ],
            [
             1,
             "#f0f921"
            ]
           ]
          },
          "colorway": [
           "#636efa",
           "#EF553B",
           "#00cc96",
           "#ab63fa",
           "#FFA15A",
           "#19d3f3",
           "#FF6692",
           "#B6E880",
           "#FF97FF",
           "#FECB52"
          ],
          "font": {
           "color": "#2a3f5f"
          },
          "geo": {
           "bgcolor": "white",
           "lakecolor": "white",
           "landcolor": "#E5ECF6",
           "showlakes": true,
           "showland": true,
           "subunitcolor": "white"
          },
          "hoverlabel": {
           "align": "left"
          },
          "hovermode": "closest",
          "mapbox": {
           "style": "light"
          },
          "paper_bgcolor": "white",
          "plot_bgcolor": "#E5ECF6",
          "polar": {
           "angularaxis": {
            "gridcolor": "white",
            "linecolor": "white",
            "ticks": ""
           },
           "bgcolor": "#E5ECF6",
           "radialaxis": {
            "gridcolor": "white",
            "linecolor": "white",
            "ticks": ""
           }
          },
          "scene": {
           "xaxis": {
            "backgroundcolor": "#E5ECF6",
            "gridcolor": "white",
            "gridwidth": 2,
            "linecolor": "white",
            "showbackground": true,
            "ticks": "",
            "zerolinecolor": "white"
           },
           "yaxis": {
            "backgroundcolor": "#E5ECF6",
            "gridcolor": "white",
            "gridwidth": 2,
            "linecolor": "white",
            "showbackground": true,
            "ticks": "",
            "zerolinecolor": "white"
           },
           "zaxis": {
            "backgroundcolor": "#E5ECF6",
            "gridcolor": "white",
            "gridwidth": 2,
            "linecolor": "white",
            "showbackground": true,
            "ticks": "",
            "zerolinecolor": "white"
           }
          },
          "shapedefaults": {
           "line": {
            "color": "#2a3f5f"
           }
          },
          "ternary": {
           "aaxis": {
            "gridcolor": "white",
            "linecolor": "white",
            "ticks": ""
           },
           "baxis": {
            "gridcolor": "white",
            "linecolor": "white",
            "ticks": ""
           },
           "bgcolor": "#E5ECF6",
           "caxis": {
            "gridcolor": "white",
            "linecolor": "white",
            "ticks": ""
           }
          },
          "title": {
           "x": 0.05
          },
          "xaxis": {
           "automargin": true,
           "gridcolor": "white",
           "linecolor": "white",
           "ticks": "",
           "title": {
            "standoff": 15
           },
           "zerolinecolor": "white",
           "zerolinewidth": 2
          },
          "yaxis": {
           "automargin": true,
           "gridcolor": "white",
           "linecolor": "white",
           "ticks": "",
           "title": {
            "standoff": 15
           },
           "zerolinecolor": "white",
           "zerolinewidth": 2
          }
         }
        },
        "title": {
         "text": "3D Scatter Plot: Total Profit, Total Revenue, and Unit Cost"
        }
       }
      },
      "image/png": "[encoded data removed]",
      "text/html": [
       "<div>                            <div id=\"d15de6a8-8df7-403f-a8de-787bd4ab39bd\" class=\"plotly-graph-div\" style=\"height:525px; width:100%;\"></div>            <script type=\"text/javascript\">                require([\"plotly\"], function(Plotly) {                    window.PLOTLYENV=window.PLOTLYENV || {};                                    if (document.getElementById(\"d15de6a8-8df7-403f-a8de-787bd4ab39bd\")) {                    Plotly.newPlot(                        \"d15de6a8-8df7-403f-a8de-787bd4ab39bd\",                        [{\"hovertemplate\":\"Total Profit=%{x}\\u003cbr\\u003eTotal Revenue=%{y}\\u003cbr\\u003eUnit Cost=%{z}\\u003cextra\\u003e\\u003c\\u002fextra\\u003e\",\"legendgroup\":\"\",\"marker\":{\"color\":\"#636efa\",\"symbol\":\"circle\"},\"mode\":\"markers\",\"name\":\"\",\"scene\":\"scene\",\"showlegend\":false,\"x\":[1.2545189595659936,-0.44578317038702114,-0.5033648085151987,-0.9993589568209333,0.4991031164180216,-0.3570649751948805,0.6317259257187817,0.18743729789306285,-0.6786776235345893,0.3660700602483274,-1.0276512855482598,-0.3062490243316193,0.4211199803448734,2.357401765259095,-0.7495315290880783,-0.7494201273030111,1.8769123159277004,-0.8409198359319447,0.4886266081202121,-0.22924083527455005,0.6806921377370245,-0.7514405000155173,-0.7498521417808379,-1.0338367934774852,-0.7392883211851359,-0.2833298363696371,-1.0151202535782142,-1.0126488076369837,-0.852509781610856,-0.09659749186273431,2.357401765259095,-0.9177868257659957,-0.15373770706879686,2.260332445054885,-0.0694347085470901,-0.6581305970310539,-1.024528069024313,-0.3870927628205378,1.001711159195993,0.17085059759279717,-0.8638433048570091,1.99550065288465,-0.5929837957357897,-1.0204749644346958,0.006723914921123167,-0.8404608296190907,2.357401765259095,-1.030037837814808,0.34634040745871875,-0.6600099640103988,-0.643556408917861,-0.9905923183878895,-0.17602249016271293,0.009014472032453952,-1.0020693869215753,-0.4280988746876814,0.7127780769697332,0.1506530137706885,-0.9335481225232766,1.987510658550671,-0.9004552620756485,0.05469924119633114,0.6383432546359772,0.039761920994341074,-0.32958769830319895,0.8361104224225592,-0.5219383594102758,-0.07000951853925413,1.4838606728936947,0.2575285631758747,0.4832248550422898,-1.0426617207298976,-0.8291405120556657,0.8081004679550374,2.357401765259095,1.7408458467138586,-0.6913489356508332,-0.47675412431977365,0.9505646309123458,2.357401765259095,0.76239925215333,0.3538006023784776,1.6822087697891628,-0.5017971778814316,-0.06068018741633012,-0.6573426579615969,-0.7121805373612944,0.24226526093759815,-1.043541881902364,-0.8700840783265905,-0.7571116393466047,-0.6909701792560976,-0.4294698228819854,2.279776240767266,-0.7376708427270042,-0.8888547228270763,-1.0100549551750793,-0.8198433486214389,-0.6970426649227048,1.104715266800889],\"y\":[0.8341154519181879,-0.554537902658861,-0.1417324314518871,-0.9101978754998409,1.375400200601268,-0.4250873625059492,1.0217361385343942,-0.08027119409731567,-0.6117920098060147,-0.0014546567133462255,-0.9502835777152377,-0.6406186182659022,-0.3230583220038913,2.67445125217735,-0.6795916854334866,-0.8341016314951372,1.1930179060358785,-0.7810014394459657,0.8524381542404026,0.80492989871027,0.3857588175202971,-0.7332306494194087,-0.7229274974417489,-0.949360158253236,-0.6697900214633902,-0.40073623061476965,-0.9281006333299643,-0.9252933961554184,-0.7913050455864477,0.1600710476039112,1.7232351183263124,-0.8405941657943607,0.38739241280667597,2.67445125217735,-0.17050714471304101,-0.5921306838541643,-0.938786672951939,0.46333098425283126,2.1360460465834468,0.8786236000965035,-0.7889759354192967,1.280508399813469,-0.6548198213615711,-0.9451452788926639,-0.5039785103260577,-0.8234160602285729,1.787146613780864,-0.94800648338382,-0.35570615710189046,-0.3787988463904399,-0.787882843565428,-0.9002401285410738,-0.3707607037553501,0.633701183103457,-0.9132765672124915,-0.6938167533662049,-0.19572401029150507,-0.08055825338614038,-0.8301087596953994,1.2746136502327094,-0.8642878757114825,-0.10335751091376566,1.5861259027688703,-0.4895545261734975,-0.43486372818758867,0.42514921064745054,-0.4618091516600419,-0.5374793767449072,2.67445125217735,-0.3944803080496329,1.3513700766698749,-0.9593841136359309,-0.7705294737280248,0.2996830409339477,2.105152841163951,2.3339140728242374,-0.6480310451689609,-0.5558371489525507,0.596622301334093,2.0313133464154873,1.1763331774135006,-0.3524491284222801,1.0493721662521038,-0.5215355225151717,-0.2579251427501333,-0.5913767097026185,-0.6665505986894351,0.043196233420736856,-0.9603838608372434,-0.8069288143746295,-0.5257522965862679,-0.6476943260140433,-0.02989993161732628,1.4902373848973387,-0.6892117978153973,-0.8949770484830929,-0.9223471212906236,-0.8014915628743239,-0.6293654073381995,1.581320512391284],\"z\":[-0.16889454969568407,-0.3948313271594626,1.7831009509923246,-0.9832495145556756,1.7831009509923246,-0.16889454969568407,1.6633774210765147,-0.5346333794875582,-0.7175828948718421,-0.3948313271594626,-0.5346333794875582,-0.8288157730228823,-0.8288157730228823,1.6633774210765147,-0.7175828948718421,-0.8288157730228823,0.3859882332459665,-0.8504429048765412,1.6633774210765147,0.9272539331686468,-0.16889454969568407,-0.16889454969568407,-0.4998697675450104,-0.9832495145556756,-0.7175828948718421,0.3859882332459665,-0.9832495145556756,-0.9832495145556756,-0.8504429048765412,1.6633774210765147,0.3859882332459665,-0.7175828948718421,1.7831009509923246,1.6633774210765147,-0.4998697675450104,-0.7175828948718421,-0.9832495145556756,0.9272539331686468,1.7831009509923246,1.7831009509923246,-0.7175828948718421,0.3859882332459665,-0.3948313271594626,-0.5346333794875582,-0.8288157730228823,-0.3948313271594626,0.3859882332459665,-0.7175828948718421,-0.8288157730228823,1.7831009509923246,-0.8288157730228823,-0.9832495145556756,-0.3948313271594626,1.7831009509923246,-0.9832495145556756,-0.8288157730228823,-0.8288157730228823,0.3859882332459665,1.6633774210765147,0.3859882332459665,-0.3948313271594626,-0.16889454969568407,1.7831009509923246,-0.8288157730228823,0.3859882332459665,0.3859882332459665,-0.7175828948718421,-0.8288157730228823,1.7831009509923246,-0.8288157730228823,1.7831009509923246,-0.9832495145556756,-0.8504429048765412,-0.3948313271594626,0.3859882332459665,1.6633774210765147,-0.8504429048765412,-0.5346333794875582,-0.16889454969568407,0.3859882332459665,1.6633774210765147,-0.8288157730228823,0.3859882332459665,-0.4998697675450104,-0.5346333794875582,-0.7175828948718421,-0.8504429048765412,-0.16889454969568407,-0.9832495145556756,-0.8504429048765412,1.7831009509923246,-0.8504429048765412,1.7831009509923246,0.3859882332459665,-0.8504429048765412,-0.8288157730228823,-0.9832495145556756,-0.5346333794875582,-0.7175828948718421,1.6633774210765147],\"type\":\"scatter3d\"}],                        {\"template\":{\"data\":{\"histogram2dcontour\":[{\"type\":\"histogram2dcontour\",\"colorbar\":{\"outlinewidth\":0,\"ticks\":\"\"},\"colorscale\":[[0.0,\"#0d0887\"],[0.1111111111111111,\"#46039f\"],[0.2222222222222222,\"#7201a8\"],[0.3333333333333333,\"#9c179e\"],[0.4444444444444444,\"#bd3786\"],[0.5555555555555556,\"#d8576b\"],[0.6666666666666666,\"#ed7953\"],[0.7777777777777778,\"#fb9f3a\"],[0.8888888888888888,\"#fdca26\"],[1.0,\"#f0f921\"]]}],\"choropleth\":[{\"type\":\"choropleth\",\"colorbar\":{\"outlinewidth\":0,\"ticks\":\"\"}}],\"histogram2d\":[{\"type\":\"histogram2d\",\"colorbar\":{\"outlinewidth\":0,\"ticks\":\"\"},\"colorscale\":[[0.0,\"#0d0887\"],[0.1111111111111111,\"#46039f\"],[0.2222222222222222,\"#7201a8\"],[0.3333333333333333,\"#9c179e\"],[0.4444444444444444,\"#bd3786\"],[0.5555555555555556,\"#d8576b\"],[0.6666666666666666,\"#ed7953\"],[0.7777777777777778,\"#fb9f3a\"],[0.8888888888888888,\"#fdca26\"],[1.0,\"#f0f921\"]]}],\"heatmap\":[{\"type\":\"heatmap\",\"colorbar\":{\"outlinewidth\":0,\"ticks\":\"\"},\"colorscale\":[[0.0,\"#0d0887\"],[0.1111111111111111,\"#46039f\"],[0.2222222222222222,\"#7201a8\"],[0.3333333333333333,\"#9c179e\"],[0.4444444444444444,\"#bd3786\"],[0.5555555555555556,\"#d8576b\"],[0.6666666666666666,\"#ed7953\"],[0.7777777777777778,\"#fb9f3a\"],[0.8888888888888888,\"#fdca26\"],[1.0,\"#f0f921\"]]}],\"heatmapgl\":[{\"type\":\"heatmapgl\",\"colorbar\":{\"outlinewidth\":0,\"ticks\":\"\"},\"colorscale\":[[0.0,\"#0d0887\"],[0.1111111111111111,\"#46039f\"],[0.2222222222222222,\"#7201a8\"],[0.3333333333333333,\"#9c179e\"],[0.4444444444444444,\"#bd3786\"],[0.5555555555555556,\"#d8576b\"],[0.6666666666666666,\"#ed7953\"],[0.7777777777777778,\"#fb9f3a\"],[0.8888888888888888,\"#fdca26\"],[1.0,\"#f0f921\"]]}],\"contourcarpet\":[{\"type\":\"contourcarpet\",\"colorbar\":{\"outlinewidth\":0,\"ticks\":\"\"}}],\"contour\":[{\"type\":\"contour\",\"colorbar\":{\"outlinewidth\":0,\"ticks\":\"\"},\"colorscale\":[[0.0,\"#0d0887\"],[0.1111111111111111,\"#46039f\"],[0.2222222222222222,\"#7201a8\"],[0.3333333333333333,\"#9c179e\"],[0.4444444444444444,\"#bd3786\"],[0.5555555555555556,\"#d8576b\"],[0.6666666666666666,\"#ed7953\"],[0.7777777777777778,\"#fb9f3a\"],[0.8888888888888888,\"#fdca26\"],[1.0,\"#f0f921\"]]}],\"surface\":[{\"type\":\"surface\",\"colorbar\":{\"outlinewidth\":0,\"ticks\":\"\"},\"colorscale\":[[0.0,\"#0d0887\"],[0.1111111111111111,\"#46039f\"],[0.2222222222222222,\"#7201a8\"],[0.3333333333333333,\"#9c179e\"],[0.4444444444444444,\"#bd3786\"],[0.5555555555555556,\"#d8576b\"],[0.6666666666666666,\"#ed7953\"],[0.7777777777777778,\"#fb9f3a\"],[0.8888888888888888,\"#fdca26\"],[1.0,\"#f0f921\"]]}],\"mesh3d\":[{\"type\":\"mesh3d\",\"colorbar\":{\"outlinewidth\":0,\"ticks\":\"\"}}],\"scatter\":[{\"fillpattern\":{\"fillmode\":\"overlay\",\"size\":10,\"solidity\":0.2},\"type\":\"scatter\"}],\"parcoords\":[{\"type\":\"parcoords\",\"line\":{\"colorbar\":{\"outlinewidth\":0,\"ticks\":\"\"}}}],\"scatterpolargl\":[{\"type\":\"scatterpolargl\",\"marker\":{\"colorbar\":{\"outlinewidth\":0,\"ticks\":\"\"}}}],\"bar\":[{\"error_x\":{\"color\":\"#2a3f5f\"},\"error_y\":{\"color\":\"#2a3f5f\"},\"marker\":{\"line\":{\"color\":\"#E5ECF6\",\"width\":0.5},\"pattern\":{\"fillmode\":\"overlay\",\"size\":10,\"solidity\":0.2}},\"type\":\"bar\"}],\"scattergeo\":[{\"type\":\"scattergeo\",\"marker\":{\"colorbar\":{\"outlinewidth\":0,\"ticks\":\"\"}}}],\"scatterpolar\":[{\"type\":\"scatterpolar\",\"marker\":{\"colorbar\":{\"outlinewidth\":0,\"ticks\":\"\"}}}],\"histogram\":[{\"marker\":{\"pattern\":{\"fillmode\":\"overlay\",\"size\":10,\"solidity\":0.2}},\"type\":\"histogram\"}],\"scattergl\":[{\"type\":\"scattergl\",\"marker\":{\"colorbar\":{\"outlinewidth\":0,\"ticks\":\"\"}}}],\"scatter3d\":[{\"type\":\"scatter3d\",\"line\":{\"colorbar\":{\"outlinewidth\":0,\"ticks\":\"\"}},\"marker\":{\"colorbar\":{\"outlinewidth\":0,\"ticks\":\"\"}}}],\"scattermapbox\":[{\"type\":\"scattermapbox\",\"marker\":{\"colorbar\":{\"outlinewidth\":0,\"ticks\":\"\"}}}],\"scatterternary\":[{\"type\":\"scatterternary\",\"marker\":{\"colorbar\":{\"outlinewidth\":0,\"ticks\":\"\"}}}],\"scattercarpet\":[{\"type\":\"scattercarpet\",\"marker\":{\"colorbar\":{\"outlinewidth\":0,\"ticks\":\"\"}}}],\"carpet\":[{\"aaxis\":{\"endlinecolor\":\"#2a3f5f\",\"gridcolor\":\"white\",\"linecolor\":\"white\",\"minorgridcolor\":\"white\",\"startlinecolor\":\"#2a3f5f\"},\"baxis\":{\"endlinecolor\":\"#2a3f5f\",\"gridcolor\":\"white\",\"linecolor\":\"white\",\"minorgridcolor\":\"white\",\"startlinecolor\":\"#2a3f5f\"},\"type\":\"carpet\"}],\"table\":[{\"cells\":{\"fill\":{\"color\":\"#EBF0F8\"},\"line\":{\"color\":\"white\"}},\"header\":{\"fill\":{\"color\":\"#C8D4E3\"},\"line\":{\"color\":\"white\"}},\"type\":\"table\"}],\"barpolar\":[{\"marker\":{\"line\":{\"color\":\"#E5ECF6\",\"width\":0.5},\"pattern\":{\"fillmode\":\"overlay\",\"size\":10,\"solidity\":0.2}},\"type\":\"barpolar\"}],\"pie\":[{\"automargin\":true,\"type\":\"pie\"}]},\"layout\":{\"autotypenumbers\":\"strict\",\"colorway\":[\"#636efa\",\"#EF553B\",\"#00cc96\",\"#ab63fa\",\"#FFA15A\",\"#19d3f3\",\"#FF6692\",\"#B6E880\",\"#FF97FF\",\"#FECB52\"],\"font\":{\"color\":\"#2a3f5f\"},\"hovermode\":\"closest\",\"hoverlabel\":{\"align\":\"left\"},\"paper_bgcolor\":\"white\",\"plot_bgcolor\":\"#E5ECF6\",\"polar\":{\"bgcolor\":\"#E5ECF6\",\"angularaxis\":{\"gridcolor\":\"white\",\"linecolor\":\"white\",\"ticks\":\"\"},\"radialaxis\":{\"gridcolor\":\"white\",\"linecolor\":\"white\",\"ticks\":\"\"}},\"ternary\":{\"bgcolor\":\"#E5ECF6\",\"aaxis\":{\"gridcolor\":\"white\",\"linecolor\":\"white\",\"ticks\":\"\"},\"baxis\":{\"gridcolor\":\"white\",\"linecolor\":\"white\",\"ticks\":\"\"},\"caxis\":{\"gridcolor\":\"white\",\"linecolor\":\"white\",\"ticks\":\"\"}},\"coloraxis\":{\"colorbar\":{\"outlinewidth\":0,\"ticks\":\"\"}},\"colorscale\":{\"sequential\":[[0.0,\"#0d0887\"],[0.1111111111111111,\"#46039f\"],[0.2222222222222222,\"#7201a8\"],[0.3333333333333333,\"#9c179e\"],[0.4444444444444444,\"#bd3786\"],[0.5555555555555556,\"#d8576b\"],[0.6666666666666666,\"#ed7953\"],[0.7777777777777778,\"#fb9f3a\"],[0.8888888888888888,\"#fdca26\"],[1.0,\"#f0f921\"]],\"sequentialminus\":[[0.0,\"#0d0887\"],[0.1111111111111111,\"#46039f\"],[0.2222222222222222,\"#7201a8\"],[0.3333333333333333,\"#9c179e\"],[0.4444444444444444,\"#bd3786\"],[0.5555555555555556,\"#d8576b\"],[0.6666666666666666,\"#ed7953\"],[0.7777777777777778,\"#fb9f3a\"],[0.8888888888888888,\"#fdca26\"],[1.0,\"#f0f921\"]],\"diverging\":[[0,\"#8e0152\"],[0.1,\"#c51b7d\"],[0.2,\"#de77ae\"],[0.3,\"#f1b6da\"],[0.4,\"#fde0ef\"],[0.5,\"#f7f7f7\"],[0.6,\"#e6f5d0\"],[0.7,\"#b8e186\"],[0.8,\"#7fbc41\"],[0.9,\"#4d9221\"],[1,\"#276419\"]]},\"xaxis\":{\"gridcolor\":\"white\",\"linecolor\":\"white\",\"ticks\":\"\",\"title\":{\"standoff\":15},\"zerolinecolor\":\"white\",\"automargin\":true,\"zerolinewidth\":2},\"yaxis\":{\"gridcolor\":\"white\",\"linecolor\":\"white\",\"ticks\":\"\",\"title\":{\"standoff\":15},\"zerolinecolor\":\"white\",\"automargin\":true,\"zerolinewidth\":2},\"scene\":{\"xaxis\":{\"backgroundcolor\":\"#E5ECF6\",\"gridcolor\":\"white\",\"linecolor\":\"white\",\"showbackground\":true,\"ticks\":\"\",\"zerolinecolor\":\"white\",\"gridwidth\":2},\"yaxis\":{\"backgroundcolor\":\"#E5ECF6\",\"gridcolor\":\"white\",\"linecolor\":\"white\",\"showbackground\":true,\"ticks\":\"\",\"zerolinecolor\":\"white\",\"gridwidth\":2},\"zaxis\":{\"backgroundcolor\":\"#E5ECF6\",\"gridcolor\":\"white\",\"linecolor\":\"white\",\"showbackground\":true,\"ticks\":\"\",\"zerolinecolor\":\"white\",\"gridwidth\":2}},\"shapedefaults\":{\"line\":{\"color\":\"#2a3f5f\"}},\"annotationdefaults\":{\"arrowcolor\":\"#2a3f5f\",\"arrowhead\":0,\"arrowwidth\":1},\"geo\":{\"bgcolor\":\"white\",\"landcolor\":\"#E5ECF6\",\"subunitcolor\":\"white\",\"showland\":true,\"showlakes\":true,\"lakecolor\":\"white\"},\"title\":{\"x\":0.05},\"mapbox\":{\"style\":\"light\"}}},\"scene\":{\"domain\":{\"x\":[0.0,1.0],\"y\":[0.0,1.0]},\"xaxis\":{\"title\":{\"text\":\"Total Profit\"}},\"yaxis\":{\"title\":{\"text\":\"Total Revenue\"}},\"zaxis\":{\"title\":{\"text\":\"Unit Cost\"}}},\"legend\":{\"tracegroupgap\":0},\"title\":{\"text\":\"3D Scatter Plot: Total Profit, Total Revenue, and Unit Cost\"}},                        {\"responsive\": true}                    ).then(function(){\n",
       "                            \n",
       "var gd = document.getElementById('d15de6a8-8df7-403f-a8de-787bd4ab39bd');\n",
       "var x = new MutationObserver(function (mutations, observer) {{\n",
       "        var display = window.getComputedStyle(gd).display;\n",
       "        if (!display || display === 'none') {{\n",
       "            console.log([gd, 'removed!']);\n",
       "            Plotly.purge(gd);\n",
       "            observer.disconnect();\n",
       "        }}\n",
       "}});\n",
       "\n",
       "// Listen for the removal of the full notebook cells\n",
       "var notebookContainer = gd.closest('#notebook-container');\n",
       "if (notebookContainer) {{\n",
       "    x.observe(notebookContainer, {childList: true});\n",
       "}}\n",
       "\n",
       "// Listen for the clearing of the current output cell\n",
       "var outputEl = gd.closest('.output');\n",
       "if (outputEl) {{\n",
       "    x.observe(outputEl, {childList: true});\n",
       "}}\n",
       "\n",
       "                        })                };                });            </script>        </div>"
      ]
     },
     "metadata": {},
     "output_type": "display_data"
    }
   ],
   "source": [
    "from sklearn.preprocessing import StandardScaler\n",
    "#Standardization\n",
    "scaler = StandardScaler()\n",
    "df[['Total_Profit', 'Total_Revenue', 'Unit_Cost']] = scaler.fit_transform(df[['Total_Profit', 'Total_Revenue', 'Unit_Cost']])\n",
    "df[['Total_Profit', 'Total_Revenue', 'Unit_Cost']].head()\n",
    "\n",
    "fig = px.scatter_3d(df, x='Total_Profit', y='Total_Revenue', z='Unit_Cost', \n",
    "                    title=\"3D Scatter Plot: Total Profit, Total Revenue, and Unit Cost\",\n",
    "                    labels={'Total_Profit': 'Total Profit', 'Total_Revenue': 'Total Revenue', 'Unit_Cost': 'Unit Cost'})\n",
    "fig.show()"
   ]
  },
  {
   "cell_type": "code",
   "execution_count": 152,
   "id": "d9b79d9f-513b-4bd6-b756-a541da638942",
   "metadata": {},
   "outputs": [
    {
     "name": "stdout",
     "output_type": "stream",
     "text": [
      "Mean Absolute Error (MAE): 0.21842209254963807\n",
      "Mean Squared Error (MSE): 0.0779516129755658\n",
      "Root Mean Squared Error (RMSE): 0.2791981607668034\n"
     ]
    }
   ],
   "source": [
    "# Step 1: Lasso Regression and Model Evaluation\n",
    "\n",
    "from sklearn.linear_model import Lasso\n",
    "from sklearn.metrics import mean_absolute_error, mean_squared_error\n",
    "import numpy as np\n",
    "\n",
    "# Assuming 'Total_Revenue' is your target variable and the rest are features\n",
    "X = df.drop(columns=['Total_Revenue', 'Order_Priority'])  # Remove target and redundant columns\n",
    "y = df['Total_Revenue']  # Target variable\n",
    "\n",
    "# Split the data into training and testing sets (80% train, 20% test)\n",
    "X_train, X_test, y_train, y_test = train_test_split(X, y, test_size=0.2, random_state=42)\n",
    "\n",
    "# Initialize and fit the Lasso regression model\n",
    "lasso = Lasso(alpha=0.1)  # You can adjust alpha for regularization strength\n",
    "lasso.fit(X_train, y_train)\n",
    "\n",
    "# Predict on the test set\n",
    "y_pred = lasso.predict(X_test)\n",
    "\n",
    "# Calculate MAE, MSE, and RMSE\n",
    "mae = mean_absolute_error(y_test, y_pred)\n",
    "mse = mean_squared_error(y_test, y_pred)\n",
    "rmse = np.sqrt(mse)\n",
    "\n",
    "# Print the evaluation metrics\n",
    "print(f\"Mean Absolute Error (MAE): {mae}\")\n",
    "print(f\"Mean Squared Error (MSE): {mse}\")\n",
    "print(f\"Root Mean Squared Error (RMSE): {rmse}\")\n"
   ]
  },
  {
   "cell_type": "code",
   "execution_count": null,
   "id": "049cccd6-f4e1-4841-93f4-47e1810c7d59",
   "metadata": {},
   "outputs": [],
   "source": []
  }
 ],
 "metadata": {
  "kernelspec": {
   "display_name": "Python 3 (ipykernel)",
   "language": "python",
   "name": "python3"
  },
  "language_info": {
   "codemirror_mode": {
    "name": "ipython",
    "version": 3
   },
   "file_extension": ".py",
   "mimetype": "text/x-python",
   "name": "python",
   "nbconvert_exporter": "python",
   "pygments_lexer": "ipython3",
   "version": "3.12.3"
  }
 },
 "nbformat": 4,
 "nbformat_minor": 5
}
